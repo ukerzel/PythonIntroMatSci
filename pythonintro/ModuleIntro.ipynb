{
 "cells": [
  {
   "cell_type": "markdown",
   "metadata": {},
   "source": [
    "# Working with Modules\n",
    "\n",
    "\n",
    "All the code we have seen so far was self-contained in the sense that all relevant functionality was defined within the file / Jupyer Notebook.\n",
    "While it is great to have everything in one place - it clearly does not scale. \\n\n",
    "As soon as we have more complex code, the notebooks become very long and it becomes harder and harder to keep track of what was defined where.\n",
    "It also means the code can only be re-used with some difficulty - we would have to copy & paste code from here to there, and so on. Once we find a bug, we would have to fix it everywhere (or, more likely, forget to do that.)\n",
    "\n",
    "Python supports \"modules\" which are essentially files ending in ```.py``` that hold functions, classes, generators, decorators, etc. that we can then use and re-use in many other pieces of code or in Jupyter Notebooks.\n",
    "\n",
    "> **Best Practice**: Code-refactoring\n",
    ">\n",
    "> When we have developed a useful function, class, etc. it is a good practice to put this into its own separate file.\n",
    "> This allows to use it more widely, it is easier to debug, and keeps the code clutter-free. It also makes it easier to clean up the code, make it more readable, more efficient, ...\n",
    ">\n",
    "> This is part of *code refactoring*: Improving and cleaning up the code without adding new functionality.\n",
    "\n",
    "Once we have defined a module (put the functions, classes, etc. into a file), we can make this usable in other code with the ```import``` statement.\n",
    "\n",
    "This can be done in multiple ways. If our code was in a file with name ```my_module.py``` we can do:\n",
    "\n",
    "* ```import my_module```: This makes all functions, classes, etc available in our current code. To access these, we need to prepend ```my_module.``` before any function, etc.\n",
    "   * ```import my_module as m```: The above can be a bit cumbersome, we can introduce a new name (e.g. an abbreviation) with the keyword ```as```. This allows us to change the name under which we can access the contents of the module. Instead of ```my_module.```, we can prepend the new name: ```m.```.\n",
    "* ```from my_module import my_func```: If we want to make only specific functions or classes available, we can import them explicitly. If we now want to use the imported functions, classes, etc. imported this way, we do not need to prepend the name of the module. We say that we have imported them into our current *namespace*.\n",
    "\n",
    "> **Bad practice** - antipattern\n",
    ">\n",
    "> The last way to import methods also allows a generic statement to import *all* functions, classes, etc: \n",
    ">\n",
    "> ```from my_module import *```  \n",
    ">\n",
    "> This imports everything (except those with a leading underscore).\n",
    "> However, it then becomes very tricky very quickly to remember where each function or class was originally defined, or, worse, if functions or classes have the same name in different modules, which one we are actually using. \\n\n",
    "> Therefore, we should refrain from using this construct at all.\n",
    "\n",
    "\n",
    "***Example***:\n",
    "Suppose we have moved the code to compute the Fibonacci series into a module called ```fibonacci.py```\n",
    "\n",
    "We can then use any of the following to make the code available:\n",
    "* ```import fibonacci```\n",
    "* ```import fibonacci as fib```\n",
    "* ```from fibonacci import compute_Fibonacci```\n",
    "\n",
    "Let us choose the second option. Then:"
   ]
  },
  {
   "cell_type": "code",
   "execution_count": 3,
   "metadata": {},
   "outputs": [
    {
     "name": "stdout",
     "output_type": "stream",
     "text": [
      "The numbers are: [0, 1, 1, 2, 3, 5, 8, 13, 21, 34]\n"
     ]
    }
   ],
   "source": [
    "import fibonacci as fib\n",
    "\n",
    "fibonacci_numbers = fib.compute_Fibonacci(n_numbers=10)\n",
    "print('The numbers are: {}'.format(fibonacci_numbers))"
   ]
  },
  {
   "cell_type": "markdown",
   "metadata": {},
   "source": [
    "# Common Modules\n",
    "\n",
    "One advantage of python is its rich ecosystem where many modules are made avaiable publicly as open-source. Many packages can be obtained from the central [Python Package Index](https://pypi.org/). At the moment, there are more than 400.000 projects that allow you to use modules for scientific computing, machine learning, deep learning, statistical analysis, visulalisation of data, image processing, language processing, web development, working with databases, and many many more.\n",
    "\n",
    "As a data scientist, the most generic and typical \"toolbelt\" includes (at least):\n",
    "* [NumPy](https://numpy.org): Efficient computations on large, multi-dimensional matrices, large collection of high-level mathematical functions\n",
    "* [Pandas](https://pandas.pydata.org): Powerful toolkit for the analysis and handling of structured data (i.e. organised in tables), and time-series\n",
    "* [Matplotlib](https://matplotlib.org): Visualisation in Python\n",
    "* [Seaborn](https://seaborn.pydata.org): Statistical data visualisation. Built on top of matplotlib to extend its functionality and also to provide a more intuitive interface as matplotlib with defaults that are visually pleasing.\n",
    "* [scikit-learn](https://scikit-learn.org/stable): Machine Learning (Clustering, regression, classification)\n",
    "* [PyTorch](https://pytorch.org) and [TensorFlow](https://www.tensorflow.org): Deep Learning and neural networks, developed by Facebook/Meta (PyTorch) and Google/Alphabet (TensorFlow). Each of them has a rich (open-source) community with many specialised packages that augment and extend these.\n",
    "* ...\n",
    "\n",
    "\n",
    "## NumPy\n",
    "\n",
    "The most frequent use-case (for us) is using\n",
    "* common [mathematical functions](https://numpy.org/doc/stable/reference/routines.math.html) (e.g. trigonometric functions, exponentials, logarithms, absolute values, etc.)\n",
    "* common [statistical functions](https://numpy.org/doc/stable/reference/routines.statistics.html) (e.g. mean, etc.)\n",
    "* [array and matrix](https://numpy.org/doc/stable/reference/arrays.html) operations\n",
    "\n",
    "The latter is particularly important when we move to machine or deep learning as this is the foundation of storing and manipulating data.\n",
    "\n",
    "> **Note**\n",
    ">\n",
    "> NumPy is heavily optimized for efficient and fast data handling and bulk operations.\n",
    ">\n",
    "> You can often gain siginificant speed boosts implementing operations using NumPy functionality compared to trying to build the functionality yourself. It is worth to spend some time getting familiar with NumPy and get used to \"offload\" computations to it.\n",
    "\n",
    "\n",
    "We typically include Numpy in our code with:\n",
    "\n",
    "```import numpy as np```\n",
    "\n",
    "> **Note**\n",
    ">\n",
    "> Although ```np``` is an arbirary abbreviation, almost everyone does it like this. Whenever you see code with ```np.```, it almost always refers to NumPy funcitonality\n",
    ">\n",
    "\n",
    "The most fundamental data-type in NumPy is an ```array``` that can have one or more dimensions. \n",
    "The ```rank``` is the number of dimensions, these area called ```axis``` in NumPy.\n",
    "The ```shape``` defines the size of the sub-arrays in each dimension.\n",
    "\n",
    "\n",
    "*Example* \\\n",
    "one dimensional array that we initialise with a list of integer values."
   ]
  },
  {
   "cell_type": "code",
   "execution_count": 4,
   "metadata": {},
   "outputs": [
    {
     "name": "stdout",
     "output_type": "stream",
     "text": [
      "The array is [1 2 3 4 5], with rank (#dimensions) 1 and shape (5,)\n",
      "The array is [[1 2 3]\n",
      " [4 5 6]\n",
      " [7 8 9]], with rank (#dimensions) 2 and shape (3, 3)\n"
     ]
    }
   ],
   "source": [
    "import numpy as np\n",
    "\n",
    "# one dimensional array\n",
    "my_array = np.array([1,2,3,4,5])\n",
    "print('The array is {0}, with rank (#dimensions) {1} and shape {2}'.format(my_array, my_array.ndim, my_array.shape))\n",
    "\n",
    "# multi-dimensional array\n",
    "my_array = np.array([ [1,2,3], [4,5,6], [7,8,9] ] )\n",
    "print('The array is {0}, with rank (#dimensions) {1} and shape {2}'.format(my_array, my_array.ndim, my_array.shape))\n",
    "\n"
   ]
  },
  {
   "cell_type": "markdown",
   "metadata": {},
   "source": [
    "Here we note:\n",
    "\n",
    "* If we only have one dimension (or axis), we initialise with a single list, e.g. ```[1,2,3,4,5,6]```\n",
    "* In multimple dimensions, we initialise with a list, and then each dimension has its own list, i.e. ```[ [dim_1], [dim_2], [...]]```\n",
    "\n",
    "\n",
    "We can make more complex arrays by, e.g. nesting arrays:"
   ]
  },
  {
   "cell_type": "code",
   "execution_count": 5,
   "metadata": {},
   "outputs": [
    {
     "name": "stdout",
     "output_type": "stream",
     "text": [
      "The array is [[[1 2 3]\n",
      "  [4 5 6]]\n",
      "\n",
      " [[1 2 3]\n",
      "  [4 5 6]]\n",
      "\n",
      " [[1 2 3]\n",
      "  [4 5 6]]], with rank (#dimensions) 3 and shape (3, 2, 3)\n"
     ]
    }
   ],
   "source": [
    "my_array = np.array([ [[1,2,3], [4,5,6]], \n",
    "                      [[1,2,3], [4,5,6]],  \n",
    "                      [[1,2,3], [4,5,6]]  ] )\n",
    "print('The array is {0}, with rank (#dimensions) {1} and shape {2}'.format(my_array, my_array.ndim, my_array.shape))"
   ]
  },
  {
   "cell_type": "markdown",
   "metadata": {},
   "source": [
    "Here, we see that there is now an additional dimension (axis): We repeat the block ```[[1,2,3], [4,5,6]]``` three times, each time we have a matrix with two rows ```1,2,3``` and ```4,5,6```.\n",
    "\n",
    "We can add more dimensions and make the \"shape\" more complex, as the need arises. The same concept is then used as \"tensors\" in deep learning.\n",
    "If we need to change the \"shape\" we can use the function ```reshape( new_dim_1, new_dim_2, ...)```"
   ]
  },
  {
   "cell_type": "code",
   "execution_count": 9,
   "metadata": {},
   "outputs": [
    {
     "name": "stdout",
     "output_type": "stream",
     "text": [
      "The array is [[1 2 3 4 5 6 1 2 3]\n",
      " [4 5 6 1 2 3 4 5 6]], with rank (#dimensions) 2 and shape (2, 9)\n"
     ]
    }
   ],
   "source": [
    "my_array = my_array.reshape(2,9)\n",
    "print('The array is {0}, with rank (#dimensions) {1} and shape {2}'.format(my_array, my_array.ndim, my_array.shape))"
   ]
  },
  {
   "cell_type": "markdown",
   "metadata": {},
   "source": [
    "We note that the number of elements and the elements themselves do not change, but the way they are arranged. Therefore, we can only re-shape the array such that the number of elements fits into the new shape.\n",
    "\n",
    "Access to sub-parts of an array works limilar to \"slicing\" we had encountered earlier for the native python datatypes.\n",
    "\n",
    "***Exercise***\n",
    "\n",
    "* print the sub-array with the negative numbers\n",
    "* change the negative numbers to positive numbers. You can use ```np.abs(...)``` to compute the absolute value\n",
    "* print the resulting array"
   ]
  },
  {
   "cell_type": "code",
   "execution_count": 16,
   "metadata": {},
   "outputs": [],
   "source": [
    "my_array = np.array([ [[1,2,3], [4,5,6]], \n",
    "                      [[-1,-2,-3], [-4,-5,-6]],  \n",
    "                      [[1,2,3], [4,5,6]]  ] )\n",
    "\n",
    "# ... your code here ...."
   ]
  },
  {
   "cell_type": "markdown",
   "metadata": {},
   "source": [
    "## Visualisation\n",
    "\n",
    "The most fundamental visualisation package is [Matplotlib](https://matplotlib.org) Other packages like [Seaborn](https://seaborn.pydata.org) build on this foundation, buth there are also others like [PlotLy](https://plotly.com/).\n",
    "\n",
    "The most common \"convention\" to include matplotlib and seaborn is:"
   ]
  },
  {
   "cell_type": "code",
   "execution_count": 6,
   "metadata": {},
   "outputs": [],
   "source": [
    "import matplotlib.pyplot as plt\n",
    "import matplotlib as mpl\n",
    "import seaborn as sns\n",
    "\n",
    "# In Jupyter notebooks we add the following \"magic\" line to make the plots appear in the notebook cells\n",
    "%matplotlib inline"
   ]
  },
  {
   "cell_type": "markdown",
   "metadata": {},
   "source": [
    "Both libraries are very complex and allow to customize plots and visualisations in a number of ways.\n",
    "There are helpful ressources to summarise the options, e.g.,a [\"cheat-sheet\" for matplotlib](https://matplotlib.org/cheatsheets/) to help remember the most frequently used options.\n",
    "\n",
    "As an example, we create a plot that shows a simple sinus oscillation and save the resulting figure, we need the following steps:\n",
    "\n",
    "* create the $x$ and $y$ values\n",
    "* create the figure as a matplotlib object\n",
    "* add the data to the figure\n",
    "* add labels to $x$ and $y$ axes, add a legend\n",
    "* save the figure\n",
    "\n",
    "\n",
    "As a first step, we need to create the $x$ values at which we want to evaluate and plot the function. In the end, we cannot have infinite values but we need to decide on a range and the number of evaluation points. The latter depends, in particular, how much the function we want to visualise changes, and how large the range is over which we want to show the function. \\\n",
    "Numpy provides a convenient function to then create these points: ```np.linspace(start, stop, number_points)```\n",
    "\n",
    "At each point in $x$, we then evaluate the function and create a corresponding $y$ value.\n",
    "Rather than doing the loop ourselves (which would be slow), NumPy can take the $x$ array, apply our function to each of the values in \"bulk\", and return a corresponding array with the $y$ values. These are called (in NumPy jargon): vector operations. These are much faster than if we were to implement this ourselves."
   ]
  },
  {
   "cell_type": "code",
   "execution_count": 5,
   "metadata": {},
   "outputs": [],
   "source": [
    "\n",
    "x = np.linspace(-np.pi, np.pi, 100)\n",
    "y = np.sin(x)\n",
    "\n",
    "\n"
   ]
  },
  {
   "cell_type": "markdown",
   "metadata": {},
   "source": [
    "In the next step, we set up the figure as a matplotlib object.\n",
    "\n",
    "Especially when working with Jupyter notebooks, it's helpful to \"clear\" the figure (even if we think it doesn't exit yet) - to make sure we do not accidently work on an object that we have created previously.\n",
    "\n",
    "Then, we create a new figure. In the simplest case here, we only have one figure to show, but we can, in principle, add a grid of multiple figures. \\\n",
    "We already note that the matplotlib syntax is not always \"immediately obvious\" so we add some \"boilerplate\" code here that you can use in your own work as a template.\n",
    "\n",
    "After this we plot our data, add the axis labels and legend, print the figure to a file.\n",
    "You can find more details on [plotting options](https://matplotlib.org/2.1.1/api/_as_gen/matplotlib.pyplot.plot.html) in the matplotlib documentation.\n"
   ]
  },
  {
   "cell_type": "code",
   "execution_count": 32,
   "metadata": {},
   "outputs": [
    {
     "data": {
      "text/plain": [
       "<Figure size 640x480 with 0 Axes>"
      ]
     },
     "metadata": {},
     "output_type": "display_data"
    },
    {
     "data": {
      "image/png": "[encoded data removed]",
      "text/plain": [
       "<Figure size 700x500 with 1 Axes>"
      ]
     },
     "metadata": {},
     "output_type": "display_data"
    }
   ],
   "source": [
    "# clear any existing figures (if any)\n",
    "plt.clf()\n",
    "\n",
    "# define a new figure\n",
    "fig  = plt.figure(figsize=(7, 5))\n",
    "ax   = fig.add_subplot(111)\n",
    "fig.subplots_adjust(top=0.85)\n",
    "ax.tick_params(axis='both', which='major', labelsize=15)\n",
    "ax.tick_params(axis='both', which='minor', labelsize=10)\n",
    "\n",
    "# The axis labels are often cut off. We need to adjust the figure\n",
    "plt.subplots_adjust(bottom=0.20)\n",
    "plt.subplots_adjust(left=0.20)\n",
    "\n",
    "\n",
    "# plot our data\n",
    "ax.plot(x,y, color = 'red', label = 'sin')\n",
    "\n",
    "# add the axis labels\n",
    "ax.set_xlabel(\"x\",fontsize=15)\n",
    "ax.set_ylabel(\"f(x)\",fontsize=15)\n",
    "\n",
    "# if we need to, we can adjust the range at which the axis is shown\n",
    "ax.set_ylim(bottom=-1.0)\n",
    "ax.set_ylim(top=1.0)\n",
    "\n",
    "# add the legend\n",
    "# note that here we cannot use \"fontsize\" but need to pass a dictionary with properties\n",
    "plt.legend(prop={'size': 15}, loc='upper right')\n",
    "\n",
    "# add a title\n",
    "ax.set_title('A sinusodial function', fontsize = 15)\n",
    "\n",
    "\n",
    "# save and show the figure.\n",
    "# Note: The order of these commands matters!\n",
    "plt.show()\n",
    "fig.savefig('sinus.png')\n"
   ]
  },
  {
   "cell_type": "markdown",
   "metadata": {},
   "source": [
    "***Exercise***\n",
    "\n",
    "Add a cosinus function to the plot such that the plot looks like below afterwards.\n",
    "\n",
    "![](SinCos.png)"
   ]
  },
  {
   "cell_type": "markdown",
   "metadata": {},
   "source": [
    "Now we do the same in Seaborn.\n",
    "\n",
    "For such a relatively simple plot, it does not save us much effort, the legend is placed automatically and a bit better so that it doesn't get in the way of the data.\n",
    "Adding the labels, however, is the same.\n",
    "\n",
    "The advantage becomes more apparent when we do more complex plots at bit later \\\n",
    "To do that, we first need to look at [pandas](https://pandas.pydata.org) to work with structured data.\n"
   ]
  },
  {
   "cell_type": "code",
   "execution_count": 36,
   "metadata": {},
   "outputs": [
    {
     "data": {
      "text/plain": [
       "Text(0.5, 1.0, 'A sinusodial function')"
      ]
     },
     "execution_count": 36,
     "metadata": {},
     "output_type": "execute_result"
    },
    {
     "data": {
      "image/png": "[encoded data removed]",
      "text/plain": [
       "<Figure size 640x480 with 1 Axes>"
      ]
     },
     "metadata": {},
     "output_type": "display_data"
    }
   ],
   "source": [
    "# Now we do the same in Seaborn\n",
    "ax = sns.lineplot(x=x, y=y, label='sin', color='red')\n",
    "\n",
    "ax.set_xlabel(\"x\",fontsize=15)\n",
    "ax.set_ylabel(\"f(x)\",fontsize=15)\n",
    "ax.set_title('A sinusodial function', fontsize = 15)\n",
    "\n"
   ]
  }
 ],
 "metadata": {
  "kernelspec": {
   "display_name": "Python 3.10.6 ('pythonintro-A08DqnGu-py3.10')",
   "language": "python",
   "name": "python3"
  },
  "language_info": {
   "codemirror_mode": {
    "name": "ipython",
    "version": 3
   },
   "file_extension": ".py",
   "mimetype": "text/x-python",
   "name": "python",
   "nbconvert_exporter": "python",
   "pygments_lexer": "ipython3",
   "version": "3.10.6"
  },
  "orig_nbformat": 4,
  "vscode": {
   "interpreter": {
    "hash": "eb3a944512c48027e49906d9e47d21cfb9b2c1ddd33f9b79c72df4b5e3a553dc"
   }
  }
 },
 "nbformat": 4,
 "nbformat_minor": 2
}
