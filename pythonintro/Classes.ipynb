{
 "cells": [
  {
   "cell_type": "markdown",
   "metadata": {},
   "source": [
    "# Classes\n",
    "\n",
    "So far, we have approached Python in a procedural way: Starting from a long list of statements, we have introduced functions to make our code more efficient, more reusable and also cleaner.\n",
    "The functions took common datatypes, from single variables to dicionaries, as input and we could also return such entities.\n",
    "\n",
    "Classes take this concept further and allow us to define our own entities (or objects). We distinguish between the \"class\" itself, this describes how this object looks like, which information it stores, or which functionality (defined by functions) it has. We can, informally, understand the class as a construction plan. If we want to make use of classes, we create \"instances\" of the class that then represent the actual objects.\n",
    "\n",
    "For example, we may define a class \"dog\":  This class allows us to describe the dog (e.g. fur colour, it's name or race), and what it can do (e.g. bark). The instances of this class then refer to specific dogs.\n",
    "\n",
    "The general setup of a class is:\n",
    "\n",
    "```\n",
    "class class_name():\n",
    "    def __init__(self, <optional parameters>):\n",
    "        #... any initialisations we need to do....\n",
    "\n",
    "    def my_function_1(self, <optional parameters>):\n",
    "        # ... define the function ....\n",
    "\n",
    "        # with or without return value\n",
    "\n",
    "    #... define more functions if needed ...\n",
    "```\n",
    "\n",
    "**We notice:**\n",
    "\n",
    "* The class is defined by the keyword ```class```, followed by the name of the class\n",
    "* Each class needs to be initialised, this is done in the function defined with ```___init___()```. The function with a double underscore before and after the keyword is called a \"dunder\" or \"magic\" method in python. These methods are not intended to be called directly (by us), but they are typically called internally by some other method or action. In our case, this \"magic\" method is automatically called when we create an instance of this class. This initialisation function can take one or more optinal arguments. Typically, we define variables here that define the properties of our class.\n",
    "* The indicator ```self``` indicates the instance of this class. It is not a keyword as such (we could use some other word) - but pretty much everyone uses *self* to avoid confusion. We use this to refer to, e.g., the variables or functions that are part of this class.\n",
    "* A class can have one or more functions that define the functionality. They can (or not) have return values, they may operate on internal variables of the class, etc.\n",
    "\n",
    "\n",
    "A simple class for dogs could be:"
   ]
  },
  {
   "cell_type": "code",
   "execution_count": 39,
   "metadata": {},
   "outputs": [],
   "source": [
    "class Dog():\n",
    "    def __init__(self):\n",
    "        pass\n",
    "\n",
    "    def bark(self):\n",
    "        print('Woof')"
   ]
  },
  {
   "cell_type": "markdown",
   "metadata": {},
   "source": [
    "Note that here we do not have anything to initialise - but we still need the magic ```__init___()``` function. We can use the keyword ```pass``` to tell python to \"pass over\" this function and move on.\n",
    "\n",
    "We also note that the function \"bark\" needs to take ```self``` as an argument - we need to tell Python, even though the code is indented below the class, that this method is part of the class.\n",
    "\n",
    "> We also used upper case letters to define the class. This is a common convention.\n",
    "\n",
    "We can then create an instance of the class to refer to a specific dog and let it bark:"
   ]
  },
  {
   "cell_type": "code",
   "execution_count": 40,
   "metadata": {},
   "outputs": [
    {
     "name": "stdout",
     "output_type": "stream",
     "text": [
      "Woof\n"
     ]
    }
   ],
   "source": [
    "# create an instance\n",
    "dog = Dog()\n",
    "\n",
    "# bark\n",
    "dog.bark()\n"
   ]
  },
  {
   "cell_type": "markdown",
   "metadata": {},
   "source": [
    "This is not the most exciting dog... Let's add some variables"
   ]
  },
  {
   "cell_type": "code",
   "execution_count": 41,
   "metadata": {},
   "outputs": [],
   "source": [
    "class Dog():\n",
    "    def __init__(self, name, fur_color, clean = True):\n",
    "        self.name = name\n",
    "        self.fur_color = fur_color\n",
    "        self.clean = clean\n",
    "\n",
    "    def bark(self):\n",
    "        print('Woof')"
   ]
  },
  {
   "cell_type": "markdown",
   "metadata": {},
   "source": [
    "Here, we added a few variables, making the last one optional with a default argument.\n",
    "\n",
    "The variables we created are associated with the class again by using ```self``` beforehand.\n",
    "\n",
    "\n",
    "**Private and public variables**\n",
    "\n",
    "> All variables in python are public.\n",
    "\n",
    "All variables that are part of the class are public, i.e. we cannot prevent someone to access them directly an change them. For example:\n"
   ]
  },
  {
   "cell_type": "code",
   "execution_count": 42,
   "metadata": {},
   "outputs": [
    {
     "name": "stdout",
     "output_type": "stream",
     "text": [
      "Woof\n",
      "The name of the dog is Rocky\n"
     ]
    }
   ],
   "source": [
    "# create an instance of the class\n",
    "dog = Dog('Rocky', 'brown')\n",
    "\n",
    "dog.bark()\n",
    "print('The name of the dog is {}'.format(dog.name))"
   ]
  },
  {
   "cell_type": "markdown",
   "metadata": {},
   "source": [
    "However, this is not really considered good practice - we should avoid to temper with the internals of the class directly but instead write \"setter\" and \"getter\" methods.\n",
    "\n",
    "The \"setter\" methods take an argument and set the respective variables to the new value, for example \"set_name(new_name)\" should update ```self.name``` to ```new_name```.\n",
    "\n",
    "The \"getter\" methods should return the value of the variable, e.g. ```get_name()``` or just ```name()```.\n",
    "\n",
    "### Exercise\n",
    "\n",
    "Extend the class definition by a \"getter\" method ```name()``` that returns the name of the dog, so that we can write:\n",
    "\n",
    "```print('The name of the dog is {}'.format(dog.name()))```\n",
    "\n",
    "> Trying to avoid accesing class variables avoids potential bugs a little as we interact with the variables in a controlled way.\n",
    "\n"
   ]
  },
  {
   "cell_type": "code",
   "execution_count": null,
   "metadata": {},
   "outputs": [],
   "source": [
    "class Dog():\n",
    "    def __init__(self, name, fur_color, clean = True):\n",
    "        self.name = name\n",
    "        self.fur_color = fur_color\n",
    "        self.clean = clean\n",
    "\n",
    "    def bark(self):\n",
    "        print('Woof')\n",
    "\n",
    "    # ... your code here ...\n",
    "\n"
   ]
  },
  {
   "cell_type": "code",
   "execution_count": null,
   "metadata": {},
   "outputs": [],
   "source": [
    "dog = Dog('Rocky', 'brown')\n",
    "\n",
    "#print('The name of the dog is {}'.format(dog.name()))"
   ]
  },
  {
   "cell_type": "markdown",
   "metadata": {},
   "source": [
    "**Getting help**\n",
    "\n",
    "Python has an inbuilt function that provides more information about objects and classes. You can access it anytime using\n",
    "\n",
    "> help(object)\n"
   ]
  },
  {
   "cell_type": "code",
   "execution_count": 38,
   "metadata": {},
   "outputs": [
    {
     "name": "stdout",
     "output_type": "stream",
     "text": [
      "Help on Dog in module __main__ object:\n",
      "\n",
      "class Dog(builtins.object)\n",
      " |  Dog(name, fur_color)\n",
      " |  \n",
      " |  Methods defined here:\n",
      " |  \n",
      " |  __init__(self, name, fur_color)\n",
      " |      Initialize self.  See help(type(self)) for accurate signature.\n",
      " |  \n",
      " |  bark(self)\n",
      " |  \n",
      " |  is_clean(self)\n",
      " |  \n",
      " |  play(self)\n",
      " |  \n",
      " |  wash(self)\n",
      " |  \n",
      " |  ----------------------------------------------------------------------\n",
      " |  Data descriptors defined here:\n",
      " |  \n",
      " |  __dict__\n",
      " |      dictionary for instance variables (if defined)\n",
      " |  \n",
      " |  __weakref__\n",
      " |      list of weak references to the object (if defined)\n",
      "\n"
     ]
    }
   ],
   "source": [
    "help(dog)"
   ]
  },
  {
   "cell_type": "markdown",
   "metadata": {},
   "source": [
    "### Exercise\n",
    "\n",
    "Imagine we are a bank and need to establish a way for us to track the transactions with customers.\n",
    "In a very simple scenario, we need an account for each customer, that has the following properties:\n",
    "\n",
    "* It is associated with a customer with their name.\n",
    "* For simplicity, we only consider euros (i.e. no cents, just integer values).\n",
    "* Customers can put money into the account, withdraw money and ask for the balance.\n",
    "* The bank does not offer credit or overdraft.\n",
    "\n",
    "Implement this as a class.\n",
    "First, think about why the above requirements are ambiguous and not sufficient (and then come up with a way to mitigate this.)\n",
    "Then, think about which cases you need to consider in your implementation.\n",
    "\n",
    "*Hints*\n",
    "* The function ```int(number)``` converts number to an integer.\n",
    "* If we need to return \"nothing\", we can use the keyword ```None```.\n"
   ]
  },
  {
   "cell_type": "code",
   "execution_count": null,
   "metadata": {},
   "outputs": [],
   "source": [
    "# ... your code here ..."
   ]
  },
  {
   "cell_type": "code",
   "execution_count": null,
   "metadata": {},
   "outputs": [],
   "source": [
    "# Test your account\n",
    "\n",
    "account = Account('Smith')\n",
    "print('Opened account for {}'.format(account.name()))\n",
    "print('Current balance: {}'.format(account.balance()))\n",
    "\n",
    "# make a deposit\n",
    "account.deposit(10)\n",
    "print('Current balance: {}'.format(account.balance()))\n",
    "\n",
    "# try to make an invalid deposit -- should produce an error message\n",
    "account.deposit(-10)\n",
    "\n",
    "# try to make an invalid deposit -- should produce an error message\n",
    "account.deposit(10.5)\n",
    "\n",
    "# try to make an invalid deposit -- should produce an error message\n",
    "account.deposit('ten')\n",
    "\n",
    "\n",
    "# withdraw some money\n",
    "my_money = account.withdrawal(5)\n",
    "print('I have now {} euros in my hand'.format(my_money))\n",
    "print('Current balance: {}'.format(account.balance()))\n",
    "\n",
    "# try to make an invalid withdrawal -- should produce an error message and we have \"nothing\" in our hand\n",
    "my_money = account.withdrawal(-10)\n",
    "print('I have now {} euros in my hand'.format(my_money))\n",
    "\n",
    "\n",
    "# try to make an invalid withdrawal -- should produce an error message and we have \"nothing\" in our hand\n",
    "my_money = account.withdrawal(10.5)\n",
    "print('I have now {} euros in my hand'.format(my_money))\n",
    "\n",
    "# try to make an invalid withdrawal -- should produce an error message and we have \"nothing\" in our hand\n",
    "my_money = account.withdrawal('ten')\n",
    "print('I have now {} euros in my hand'.format(my_money))\n",
    "\n",
    "# try to make an invalid withdrawal -- should produce an error message and we have \"nothing\" in our hand\n",
    "my_money = account.withdrawal(500)\n",
    "print('I have now {} euros in my hand'.format(my_money))"
   ]
  },
  {
   "cell_type": "markdown",
   "metadata": {},
   "source": [
    "***Note***\n",
    "\n",
    "In our implementation so far, we have resorted to a rather crude error handling by printing out an error statement.\n",
    "This is already quite good as we test for unexpected behaviour - but it would be better to deal with the erronous cases in a different way. This is called \"exception handling\" which we will focus on later."
   ]
  }
 ],
 "metadata": {
  "kernelspec": {
   "display_name": "Python 3.10.6 ('pythonintro-A08DqnGu-py3.10')",
   "language": "python",
   "name": "python3"
  },
  "language_info": {
   "codemirror_mode": {
    "name": "ipython",
    "version": 3
   },
   "file_extension": ".py",
   "mimetype": "text/x-python",
   "name": "python",
   "nbconvert_exporter": "python",
   "pygments_lexer": "ipython3",
   "version": "3.10.6"
  },
  "orig_nbformat": 4,
  "vscode": {
   "interpreter": {
    "hash": "eb3a944512c48027e49906d9e47d21cfb9b2c1ddd33f9b79c72df4b5e3a553dc"
   }
  }
 },
 "nbformat": 4,
 "nbformat_minor": 2
}
