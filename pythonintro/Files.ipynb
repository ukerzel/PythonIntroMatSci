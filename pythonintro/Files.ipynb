{
 "cells": [
  {
   "cell_type": "markdown",
   "metadata": {},
   "source": [
    "# Files\n",
    "\n",
    "One of the most fundamental and common way to persist or retrieve information is from files.\n",
    "There are many specialised software libraries that we can use within python to work with common file types.\n",
    "\n",
    "Therefore, here we give a generic overview how to access files, read and write information. \\\n",
    "We will use a basic text file for this.\n",
    "\n",
    "\n",
    "## Reading\n",
    "\n",
    "To read from a file, we first need to check if it exists, then open it.\n",
    "Python provides a nice way of doing this with the ```with``` keyword. \\\n",
    "Under the hood, the ```with``` statement provides a context manager for unmanaged ressources (such as files, access to databases, URLs, etc). \n",
    "We can use it to avoid a try-except construction, and the statement also cleans up afterwards, closes the file, etc.\n",
    "\n",
    "The general syntax is:\n",
    "```\n",
    "with open(file_name, 'r') as file:\n",
    "    # do something with the file\n",
    "```\n",
    "\n",
    "We note:\n",
    "* The call to ```open()``` opens the file and returns an object that we can then use. \n",
    "* We specify the path and name of the file as the first argument.\n",
    "* We open the file in read-only mode (to prevent accidental write access or because we do not have write privileges)\n",
    "\n",
    "\n",
    "The following example reads the whole content of the file. \\\n",
    "*Note*: Remeber the comment about generators, reading the whole file works well here - but not for large file."
   ]
  },
  {
   "cell_type": "code",
   "execution_count": 3,
   "metadata": {},
   "outputs": [
    {
     "name": "stdout",
     "output_type": "stream",
     "text": [
      "This is the first line.\n",
      "This is the second line.\n",
      "This is the third line.\n",
      "\n",
      "Lorem ipsum dolor sit amet, consectetur adipiscing elit.\n",
      "Nunc semper, massa efficitur efficitur dictum, augue massa varius felis, in laoreet dui felis non ante.\n",
      "\n"
     ]
    }
   ],
   "source": [
    "file_name = 'example_file.txt'\n",
    "\n",
    "with open(file_name, 'r') as file:\n",
    "    contents = file.read()\n",
    "\n",
    "print(contents)"
   ]
  },
  {
   "cell_type": "markdown",
   "metadata": {},
   "source": [
    "We can also read line by line:\n",
    "\n",
    "We can use the method ```rstrip()``` to remove any trailing characters such as spaces (which is also the default argument)"
   ]
  },
  {
   "cell_type": "code",
   "execution_count": 5,
   "metadata": {},
   "outputs": [
    {
     "name": "stdout",
     "output_type": "stream",
     "text": [
      "This is the first line.\n",
      "This is the second line.\n",
      "This is the third line.\n",
      "\n",
      "Lorem ipsum dolor sit amet, consectetur adipiscing elit.\n",
      "Nunc semper, massa efficitur efficitur dictum, augue massa varius felis, in laoreet dui felis non ante.\n"
     ]
    }
   ],
   "source": [
    "file_name = 'example_file.txt'\n",
    "\n",
    "with open(file_name, 'r') as file:\n",
    "    for line in file:\n",
    "        print(line.rstrip())"
   ]
  },
  {
   "cell_type": "markdown",
   "metadata": {},
   "source": [
    "Using the qualifier ```w``` we can write (and overwrite) files, using ```a```, we append to files, rather than ovewrite them.\n",
    "\n",
    "**Exercise** \\\n",
    "Write the first 10 digits of the Fibonacci series to a file.\n",
    "\n",
    "**Hints**\n",
    "* Writing to a file works with strings, you need to convert the number to a string.\n",
    "* Improve readability by adding a new line after each number. You can do this by \"adding\" another string ```' \\n'``` to the converted number. This is an \"escape character\", that is interpreted by output methods (such as, e.g. writing to a file, print). [Other escape characters](https://www.w3schools.com/python/gloss_python_escape_characters.asp) exist as well."
   ]
  },
  {
   "cell_type": "code",
   "execution_count": null,
   "metadata": {},
   "outputs": [],
   "source": [
    "# ... your code here ...."
   ]
  },
  {
   "cell_type": "markdown",
   "metadata": {},
   "source": [
    "## Reading files in chunks\n",
    "\n",
    "If we want to make sure that we do not run into memory problems, we can use the ```yield``` statement and define a generator.\n",
    "Here we use, that the method ```read(chunk_size)``` takes an optional argument that defines how much we read at a time.\n"
   ]
  },
  {
   "cell_type": "code",
   "execution_count": 10,
   "metadata": {},
   "outputs": [
    {
     "name": "stdout",
     "output_type": "stream",
     "text": [
      "This is the first line.\n",
      "This is the second line.\n",
      "This is the thi\n",
      "---\n",
      "rd line.\n",
      "\n",
      "Lorem ipsum dolor sit amet, consectetur adipiscing eli\n",
      "---\n",
      "t.\n",
      "Nunc semper, massa efficitur efficitur dictum, augue massa va\n",
      "---\n",
      "rius felis, in laoreet dui felis non ante.\n",
      "\n",
      "---\n"
     ]
    }
   ],
   "source": [
    "def read_chunk (file, chunk_size=64):\n",
    "    while True:\n",
    "        content = file.read(chunk_size)\n",
    "        if not content:\n",
    "            break\n",
    "        yield content\n",
    "    \n",
    "file_name = 'example_file.txt'\n",
    "with open(file_name) as f:\n",
    "    for chunk in read_chunk(f):\n",
    "        print(chunk)\n",
    "        print('---')"
   ]
  },
  {
   "cell_type": "markdown",
   "metadata": {},
   "source": [
    "Note that now we do not read the entire file, nor the line (e.g. the file might not have line breaks) but chunks of size \"chunk_size\", whether or not they coincide with lines.\n",
    "To recover lines, we would have to post-process what we read - however, if we process large files we do not run a risk that we overload our system."
   ]
  }
 ],
 "metadata": {
  "kernelspec": {
   "display_name": "Python 3.10.6 ('pythonintro-A08DqnGu-py3.10')",
   "language": "python",
   "name": "python3"
  },
  "language_info": {
   "codemirror_mode": {
    "name": "ipython",
    "version": 3
   },
   "file_extension": ".py",
   "mimetype": "text/x-python",
   "name": "python",
   "nbconvert_exporter": "python",
   "pygments_lexer": "ipython3",
   "version": "3.10.6"
  },
  "orig_nbformat": 4,
  "vscode": {
   "interpreter": {
    "hash": "eb3a944512c48027e49906d9e47d21cfb9b2c1ddd33f9b79c72df4b5e3a553dc"
   }
  }
 },
 "nbformat": 4,
 "nbformat_minor": 2
}
