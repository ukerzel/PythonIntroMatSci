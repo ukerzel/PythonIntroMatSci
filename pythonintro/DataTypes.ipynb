{
  "cells": [
    {
      "cell_type": "markdown",
      "metadata": {
        "id": "rs-kLejJ9dgc"
      },
      "source": [
        "# Common Datatypes\n",
        "\n",
        "Previously, we have seen the basic datatypes such as:\n",
        "\n",
        "*   int\n",
        "*   float\n",
        "*   string\n",
        "*   boolean\n",
        "\n",
        "These are suitable to hold single values - but often, we want to create more complex datatypes that can hold more than one value.\n",
        "\n",
        "## Lists\n",
        "List are \"containers\" that store a sequence of elements.\n",
        "We can initialise a list with a sequence of elements or start with an empty list.\n",
        "We can get the length of the list by using the function ```len()```\n",
        "\n"
      ]
    },
    {
      "cell_type": "code",
      "execution_count": null,
      "metadata": {
        "colab": {
          "base_uri": "https://localhost:8080/"
        },
        "id": "Vc7lYN0m9VvS",
        "outputId": "64fe7e15-2d19-47d6-ed28-c4afb10974e3"
      },
      "outputs": [
        {
          "name": "stdout",
          "output_type": "stream",
          "text": [
            "[1, 2, 3, 4]\n",
            "The list has 4 elements\n"
          ]
        }
      ],
      "source": [
        "my_empty_list = []\n",
        "my_list = [1,2,3,4]\n",
        "\n",
        "# print the content of the list\n",
        "print(my_list)\n",
        "\n",
        "# print the length of the list - remember the way to format the printed statements\n",
        "print('The list has {} elements'.format(len(my_list)))"
      ]
    },
    {
      "cell_type": "markdown",
      "metadata": {
        "id": "YNpDZH69EEDK"
      },
      "source": [
        "### Extending lists\n",
        "\n",
        "There are multiple ways to add new elements to a list ```l````\n",
        "(note that normally we would use more descriptive variable names instead of just \"l\"!)\n",
        "\n",
        "*   add a new element at the end of the list: ```l.append(element)```\n",
        "*   insert an element at a specific position: ```l.insert(index, element)```\n",
        "*   concatenating lists: ```list_1 + list_2```\n",
        "\n"
      ]
    },
    {
      "cell_type": "code",
      "execution_count": null,
      "metadata": {
        "colab": {
          "base_uri": "https://localhost:8080/"
        },
        "id": "RiP1wQfDDJy1",
        "outputId": "f8b275bb-d5d4-47ed-e59e-55ce76a7c310"
      },
      "outputs": [
        {
          "name": "stdout",
          "output_type": "stream",
          "text": [
            "[1, 2, 3, 3, 4, 5, 5]\n",
            "-------------\n",
            "[1, 2, 3, 3, 3, 4, 5, 5]\n",
            "-------------\n",
            "[1, 2, 3, 2, 3, 4]\n",
            "-------------\n"
          ]
        }
      ],
      "source": [
        "# add a new element at the end\n",
        "my_list.append(5)\n",
        "print(my_list)\n",
        "print('-------------')\n",
        "\n",
        "# add a new element in the middle at index 2\n",
        "my_list.insert(2,3)\n",
        "print(my_list)\n",
        "print('-------------')\n",
        "\n",
        "# concatenating lists\n",
        "list_1 = [1,2,3]\n",
        "list_2 = [2,3,4]\n",
        "my_list = list_1 + list_2\n",
        "print(my_list)\n",
        "print('-------------')\n",
        "\n"
      ]
    },
    {
      "cell_type": "markdown",
      "metadata": {
        "id": "k05m6zhIHAYW"
      },
      "source": [
        "### Common list operations\n",
        "\n",
        "*   sorting a list: ```l.sort()```. We can add the argument ```reverse=True``` if we want the list to be sorted in reverse.\n",
        "*   count the number of times an element appears in the list: ```l.count(element)```\n",
        "*   reverse the order of elements in the list ```l.reverse()```\n",
        "*   find the position (index) of the first occurence of an element with value ```value```: ```l.index(value, pos)```. The second argument ```pos``` is optional, if we specify ```pos>0```, the search starts from this position (index) instead of the beginning.\n",
        "\n",
        "**Exercise:** \n",
        "\n",
        "Take the list defined below, sort it in ascending order and count how often the number 2 appears."
      ]
    },
    {
      "cell_type": "code",
      "execution_count": null,
      "metadata": {
        "id": "yzJ9yfQfIXda"
      },
      "outputs": [],
      "source": [
        "my_list = [0,3,2,6,3,2,1,7,8,7]\n",
        "\n",
        "# ... your code here ...."
      ]
    },
    {
      "cell_type": "markdown",
      "metadata": {},
      "source": [
        "### Removing elements from lists\n",
        "\n",
        "*   remove all items from a list: ```l.clear()```\n",
        "*   remove an item at a specific index and return it: ```element = l.pop(index)```. The argument ```index``` is optional, if you do not specifiy it, it will remove and return the last element in the list.\n",
        "*   remove the first item with value ```value``` from the list: ```l.remove(value)```. If the ```value``` does not exist, we get an error (```ValueError```)"
      ]
    },
    {
      "cell_type": "code",
      "execution_count": 5,
      "metadata": {},
      "outputs": [
        {
          "name": "stdout",
          "output_type": "stream",
          "text": [
            "[0, 2, 6, 3, 2, 1, 7, 8, 7]\n"
          ]
        }
      ],
      "source": [
        "my_list = [0,3,2,6,3,2,1,7,8,7]\n",
        "\n",
        "# remove the first 3\n",
        "my_list.remove(3)\n",
        "print(my_list)"
      ]
    },
    {
      "cell_type": "markdown",
      "metadata": {},
      "source": [
        "### Accessing list elements and slicing\n",
        "\n",
        "In order to work with lists, we also need to access the elements. We can do this by using their index in the following way:  ```l[index]```\n",
        "Indices are counted forwards (starting from 0), i.e. the first element has ```index = 0```, the second element ```index = 1```, and so on.\n",
        "However, we can also count backwards. Then, the last element has ```index = -1 ```, the second last has ```index = -2```, and so on.\n",
        "\n",
        "![Image](ListIndex.png)"
      ]
    },
    {
      "cell_type": "code",
      "execution_count": 8,
      "metadata": {},
      "outputs": [
        {
          "name": "stdout",
          "output_type": "stream",
          "text": [
            "[1, 2, 3, 4, 5]\n",
            "-----------\n",
            "3\n",
            "-----------\n",
            "5\n",
            "5\n",
            "5\n"
          ]
        }
      ],
      "source": [
        "my_list = [1, 2, 3, 4, 5]\n",
        "\n",
        "# print the full list\n",
        "print(my_list)\n",
        "print('-----------')\n",
        "\n",
        "# print the second element\n",
        "print(my_list[2])\n",
        "print('-----------')\n",
        "\n",
        "# print the last element\n",
        "print(my_list[4])\n",
        "print(my_list[len(my_list)-1])\n",
        "print(my_list[-1])"
      ]
    },
    {
      "cell_type": "markdown",
      "metadata": {},
      "source": [
        "There we see three ways of accessing the last element of the list\n",
        "\n",
        "* we happen to know that the list contains five elements, hence, the last one is at ```index = 4``` (because we start counting from zero)\n",
        "* the function ```len( list )``` gives us the length of the list. We subtract one (as we start counting from zero), to get the index of the last element.\n",
        "* we use the backward index and use ```index = -1``` to refer to the last element.\n",
        "\n",
        "> **Note:**\n",
        ">\n",
        "> Think about which method you would use and why.\n",
        "\n",
        "Lists are ***mutable***, i.e. we can change the elements, e.g."
      ]
    },
    {
      "cell_type": "code",
      "execution_count": 9,
      "metadata": {},
      "outputs": [
        {
          "name": "stdout",
          "output_type": "stream",
          "text": [
            "[1, 2, 3, 4, 5]\n",
            "[1, 2, 10, 4, 5]\n"
          ]
        }
      ],
      "source": [
        "print(my_list)\n",
        "\n",
        "my_list[2] = 10\n",
        "\n",
        "print(my_list)"
      ]
    },
    {
      "cell_type": "markdown",
      "metadata": {},
      "source": [
        "We can access ranges of lists via the index. The general syntax is ```list [ start_index : stop_index : step_size ]```.\n",
        "\n",
        "\n",
        "This means: \n",
        "* we start our slice at ```start_index```, \n",
        "* end at the ```stop_index```, and \n",
        "* go ```step_size``` steps at a time. Positive step sizes mean we go forward, negative we go backward.\n",
        "\n",
        "All three arguments ```start_index```, ```stop_index```, and ```step_size``` are optional. If we do not specify them, this means *the rest of the list*.\n",
        "\n",
        "Hence ```my_list``` and ```my_list[:]``` refer to the whole list."
      ]
    },
    {
      "cell_type": "code",
      "execution_count": 17,
      "metadata": {},
      "outputs": [
        {
          "name": "stdout",
          "output_type": "stream",
          "text": [
            "[1, 2, 3, 4, 5]\n",
            "[1, 2, 3, 4, 5]\n",
            "-----------\n",
            "[2, 3, 4, 5]\n",
            "-----------\n",
            "-----------\n",
            "-----------\n",
            "[1, 3, 5]\n"
          ]
        }
      ],
      "source": [
        "my_list = [1, 2, 3, 4, 5]\n",
        "print(my_list)\n",
        "print(my_list[:])\n",
        "print('-----------')\n",
        "\n",
        "# print the list from the second element onwards\n",
        "print(my_list[1:])\n",
        "print('-----------')\n",
        "\n",
        "# print the list up to the second last element\n",
        "# should give: [1, 2, 3]\n",
        "# ... your code here ....\n",
        "\n",
        "print('-----------')\n",
        "\n",
        "# print the list between the second and the second last element\n",
        "# should give [2, 3]\n",
        "# ... your code here ....\n",
        "\n",
        "print('-----------')\n",
        "\n",
        "# print every other element of the list\n",
        "# this should give [1, 3, 5]\n",
        "# ... your code here ....\n",
        "\n"
      ]
    },
    {
      "cell_type": "markdown",
      "metadata": {},
      "source": [
        "### Lists and strings\n",
        "\n",
        "\n",
        "In a way, list and strings share some similar behaviour. We can (almost) interpret a string as a list of letters. In this sense, we can also access the elemets of the string with indices as we did with lists, work with ranges, etc.\n",
        "\n",
        "However, crucially, strings are ***immutable***, i.e. once created we cannot change the letters at the indices."
      ]
    },
    {
      "cell_type": "code",
      "execution_count": 13,
      "metadata": {},
      "outputs": [
        {
          "name": "stdout",
          "output_type": "stream",
          "text": [
            "python\n"
          ]
        }
      ],
      "source": [
        "my_string = 'I love python'\n",
        "\n",
        "index_p = my_string.index('p')\n",
        "\n",
        "print(my_string[index_p:])"
      ]
    },
    {
      "cell_type": "markdown",
      "metadata": {},
      "source": [
        "Exercise:\n",
        "\n",
        "Use indices and slicing methods to print the word \"run\" from the word \"nurse\" below."
      ]
    },
    {
      "cell_type": "code",
      "execution_count": 16,
      "metadata": {},
      "outputs": [
        {
          "name": "stdout",
          "output_type": "stream",
          "text": [
            "RUN\n"
          ]
        }
      ],
      "source": [
        "my_word = 'nurse'\n",
        "\n",
        "# ... your code here ..."
      ]
    },
    {
      "cell_type": "markdown",
      "metadata": {},
      "source": [
        "## Tuples\n",
        "\n",
        "Tuples are quite similar to lists and we can also access them via their indices.\n",
        "However, unlike lists, tuples are ***immutable***, i.e. once created, we cannot change the values.\n",
        "\n",
        "Tuples are (technically) defined by the presence of the comma, however, we typically use round brackets to make it look neater and more easily recogniseable."
      ]
    },
    {
      "cell_type": "code",
      "execution_count": 18,
      "metadata": {},
      "outputs": [
        {
          "name": "stdout",
          "output_type": "stream",
          "text": [
            "(1, 2, 3, 4, 5)\n",
            "-----------\n",
            "(3, 4, 5)\n",
            "-----------\n"
          ]
        },
        {
          "ename": "TypeError",
          "evalue": "'tuple' object does not support item assignment",
          "output_type": "error",
          "traceback": [
            "\u001b[0;31m---------------------------------------------------------------------------\u001b[0m",
            "\u001b[0;31mTypeError\u001b[0m                                 Traceback (most recent call last)",
            "Cell \u001b[0;32mIn [18], line 10\u001b[0m\n\u001b[1;32m      7\u001b[0m \u001b[39mprint\u001b[39m(\u001b[39m'\u001b[39m\u001b[39m-----------\u001b[39m\u001b[39m'\u001b[39m)\n\u001b[1;32m      9\u001b[0m \u001b[39m#this will fail.\u001b[39;00m\n\u001b[0;32m---> 10\u001b[0m my_tuple[\u001b[39m1\u001b[39;49m] \u001b[39m=\u001b[39m \u001b[39m10\u001b[39m\n",
            "\u001b[0;31mTypeError\u001b[0m: 'tuple' object does not support item assignment"
          ]
        }
      ],
      "source": [
        "my_tuple = (1, 2, 3, 4, 5)\n",
        "\n",
        "print(my_tuple)\n",
        "print('-----------')\n",
        "\n",
        "print(my_tuple[2:])\n",
        "print('-----------')\n",
        "\n",
        "#this will fail.\n",
        "my_tuple[1] = 10"
      ]
    },
    {
      "cell_type": "markdown",
      "metadata": {},
      "source": [
        "## Set\n",
        "\n",
        "A set is also similar to a list - but here each element can only occur once and the order of the set is not fixed, i.e. it is an unorderd collection of distinct objects.\n",
        "\n",
        "We use curly brackets to define a set."
      ]
    },
    {
      "cell_type": "code",
      "execution_count": 20,
      "metadata": {},
      "outputs": [
        {
          "name": "stdout",
          "output_type": "stream",
          "text": [
            "{1, 2, 3}\n",
            "-----------\n",
            "{1, 2, 3}\n",
            "-----------\n"
          ]
        }
      ],
      "source": [
        "my_set = {1, 2, 3}\n",
        "print(my_set)\n",
        "print('-----------')\n",
        "\n",
        "# this is the same\n",
        "my_set = {1, 1, 2, 3, 3, 3, 2, 1 }\n",
        "print(my_set)\n",
        "print('-----------')"
      ]
    }
  ],
  "metadata": {
    "colab": {
      "provenance": []
    },
    "kernelspec": {
      "display_name": "Python 3.10.6 ('pythonintro-A08DqnGu-py3.10')",
      "language": "python",
      "name": "python3"
    },
    "language_info": {
      "codemirror_mode": {
        "name": "ipython",
        "version": 3
      },
      "file_extension": ".py",
      "mimetype": "text/x-python",
      "name": "python",
      "nbconvert_exporter": "python",
      "pygments_lexer": "ipython3",
      "version": "3.10.6"
    },
    "vscode": {
      "interpreter": {
        "hash": "eb3a944512c48027e49906d9e47d21cfb9b2c1ddd33f9b79c72df4b5e3a553dc"
      }
    }
  },
  "nbformat": 4,
  "nbformat_minor": 0
}
