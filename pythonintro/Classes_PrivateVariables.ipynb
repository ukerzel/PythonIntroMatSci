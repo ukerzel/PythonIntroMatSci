{
 "cells": [
  {
   "cell_type": "markdown",
   "metadata": {},
   "source": [
    "# Classes\n",
    "\n",
    "## Private Variables\n",
    "\n",
    "Other programming languages offer \"public\" and \"private\" variables for classes, where private variables cannot be accessed from outside. Python does not allow this, but we can use the following convention:\n",
    "\n",
    "> Variables or functions in a class with a leading underscore (e.g. ```_name```) are intended to be private and should not be used or called directly.\n",
    "\n",
    "For example, if we do not want users to interact with the cleanliness of the dog directly, we could use:"
   ]
  },
  {
   "cell_type": "code",
   "execution_count": 1,
   "metadata": {},
   "outputs": [],
   "source": [
    "class Dog():\n",
    "    def __init__(self, name, fur_color):\n",
    "        self.name = name\n",
    "        self.fur_color = fur_color\n",
    "        self._clean = True\n",
    "\n",
    "    def bark(self):\n",
    "        print('Woof')\n",
    "\n",
    "    def is_clean(self):\n",
    "        return self._clean\n",
    "\n",
    "    def wash(self):\n",
    "        self._clean = True\n",
    "    \n",
    "    def play(self):\n",
    "        self._clean = False"
   ]
  },
  {
   "cell_type": "markdown",
   "metadata": {},
   "source": [
    "Now, the variable ```_clean``` is indicated to be used internally only. Therefore, we  do not pass a value in the initialising function, but set an initial state. Then, we can ask if the dog is clean, wash it or let it play to change the state.\n",
    "\n",
    "Note that here we have used the simplest way to change the state of the variable and always update it - we could, for example, first check if the dog is clean before cleaning it."
   ]
  },
  {
   "cell_type": "code",
   "execution_count": 2,
   "metadata": {},
   "outputs": [
    {
     "name": "stdout",
     "output_type": "stream",
     "text": [
      "Is the dog clean? False\n",
      "Is the dog clean? True\n"
     ]
    }
   ],
   "source": [
    "dog = Dog('Rocky', 'brown')\n",
    "\n",
    "dog.play()\n",
    "print('Is the dog clean? {}'.format(dog.is_clean()))\n",
    "\n",
    "dog.wash()\n",
    "print('Is the dog clean? {}'.format(dog.is_clean()))"
   ]
  },
  {
   "cell_type": "markdown",
   "metadata": {},
   "source": [
    "However, this is just convention. We could access the variable directly - the leading underscore just tells us, not to:"
   ]
  },
  {
   "cell_type": "code",
   "execution_count": 3,
   "metadata": {},
   "outputs": [
    {
     "name": "stdout",
     "output_type": "stream",
     "text": [
      "Is the dog clean? False\n"
     ]
    }
   ],
   "source": [
    "dog = Dog('Rocky', 'brown')\n",
    "dog._clean = False\n",
    "print('Is the dog clean? {}'.format(dog.is_clean()))"
   ]
  },
  {
   "cell_type": "markdown",
   "metadata": {},
   "source": [
    "Python does have a way to make variables and functions a bit more private by using a double underscore instead of a single one. This tells python to \"mangle\" the name in a special way - but if you know how this is done, you can get around it."
   ]
  },
  {
   "cell_type": "code",
   "execution_count": 4,
   "metadata": {},
   "outputs": [],
   "source": [
    "class Dog():\n",
    "    def __init__(self, name, fur_color):\n",
    "        self.name = name\n",
    "        self.fur_color = fur_color\n",
    "        self.__clean = True\n",
    "\n",
    "    def bark(self):\n",
    "        print('Woof')\n",
    "\n",
    "    def is_clean(self):\n",
    "        return self.__clean\n",
    "\n",
    "    def wash(self):\n",
    "        self.__clean = True\n",
    "    \n",
    "    def play(self):\n",
    "        self.__clean = False"
   ]
  },
  {
   "cell_type": "code",
   "execution_count": 5,
   "metadata": {},
   "outputs": [
    {
     "name": "stdout",
     "output_type": "stream",
     "text": [
      "Is the dog clean? True\n"
     ]
    }
   ],
   "source": [
    "# Now we cannot change the internal state of the variable.\n",
    "dog = Dog('Rocky', 'brown')\n",
    "dog.__clean = False\n",
    "\n",
    "print('Is the dog clean? {}'.format(dog.is_clean()))"
   ]
  }
 ],
 "metadata": {
  "kernelspec": {
   "display_name": "Python 3.10.6 ('pythonintro-A08DqnGu-py3.10')",
   "language": "python",
   "name": "python3"
  },
  "language_info": {
   "codemirror_mode": {
    "name": "ipython",
    "version": 3
   },
   "file_extension": ".py",
   "mimetype": "text/x-python",
   "name": "python",
   "nbconvert_exporter": "python",
   "pygments_lexer": "ipython3",
   "version": "3.10.6"
  },
  "orig_nbformat": 4,
  "vscode": {
   "interpreter": {
    "hash": "eb3a944512c48027e49906d9e47d21cfb9b2c1ddd33f9b79c72df4b5e3a553dc"
   }
  }
 },
 "nbformat": 4,
 "nbformat_minor": 2
}
