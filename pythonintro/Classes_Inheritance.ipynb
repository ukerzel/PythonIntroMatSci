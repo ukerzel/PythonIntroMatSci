{
 "cells": [
  {
   "cell_type": "markdown",
   "metadata": {},
   "source": [
    "# Classes\n",
    "\n",
    "## Inheritance\n",
    "\n",
    "Classes are a powerful way to define objects with certain properties (variables) and capabilities (functions).\n",
    "Previously, we have defined a simple class describing a dog. We could do the same for cats - but that would replicate a lot of code.\n",
    "It would be much nicer to have a way to describe cats and dogs in more general terms and then specialise this for cats and dogs.\n",
    "\n",
    "Here we can make use of a feature called \"inheritance\". This allows us to create a relationship between classes. We can start with a more generic \"high-level\" class and then define more specialised classes that inherit the properties of the parent class.\n",
    "\n",
    "\n",
    "Designing such relationship between classes is quite tricky - on one hand, we want to have a generic setup that we can re-use several times and that is quite flexible. On the other hand, if we are too flexible, we run the risk at becoming too generic and then it becomes more difficult to derive the proper approach for our problem at hand.\n",
    "Whenever we find ourselves in the situation to define a set of classes and their relationship, we should take a step back, think about the problem we are trying to solve and choose the \"right\" level of complexity while trying to avoid to \"over-engineer\" the setup.\n",
    "(It does sound a bit vague and tricky - because the design is typically not easy and straightforward.)\n",
    "\n",
    "In our case, we want to have a base class that defines what is common between cats and dogs. We could call this class \"pets\" - but immediately we run into issues with this: While cats and dogs are pets, not all dogs and cats are pets (think of wild or feral ones). Further, other people would have birds, rabbits, etc. as pets.\n",
    "We could take several approaches now:\n",
    "* We take \"pets\" as our base class and specify it such that it would also work for birds, rabbits, etc. - at least in principle.\n",
    "* We limit ourselves to cats and dogs (not necessarily pets)\n",
    "\n",
    "Let's take the second approach. Then we take the taxonomy of animals as a starting point, which we can see here for [Cats](https://en.wikipedia.org/wiki/Cat) and here for [Dogs](https://en.wikipedia.org/wiki/Dog). Cats and dogs start to differ at the level of Order: Both belong to the order of \"Carnivora\", but then for cats we go into \"Felidae\", and for dogs to \"Canidae\". The order of [Carnivora](https://en.wikipedia.org/wiki/Carnivora) includes a lot of other animals that we do not want to describe in our derived classes for cats and dogs - but we could define classes for them as well based on this base-class.\n",
    "\n",
    "The base class could look like this:"
   ]
  },
  {
   "cell_type": "code",
   "execution_count": 1,
   "metadata": {},
   "outputs": [],
   "source": [
    "class Carnivora():\n",
    "    def __init__(self, name=''):\n",
    "        self._name=name\n",
    "\n",
    "    def name(self):\n",
    "        return self._name\n",
    "\n",
    "    def set_name(self, new_name):\n",
    "        self._name = new_name\n",
    "        \n",
    "    def speak(self):\n",
    "        pass\n",
    "\n"
   ]
  },
  {
   "cell_type": "markdown",
   "metadata": {},
   "source": [
    "Like this, we have defined a quite generic class class. Since we mainly want to use it for cats and dogs, we assume that we will mostly assign a name to the animals - but we provide a an empty string as default argument so we do not have to name the animal. For example, if we were later to describe a wild bear, we could assign it some specific identifier - but we do not have to.\n",
    "\n",
    "We have also replaced the function ```bark()``` with a mere generic ```speak()``` as neither cats, nor bears or others bark. However, we notice that we have not implemented anything here. This will depend if we are, for example, to describe cats or dogs. For now, the function does not do anything - it would be better though to raise an error message using methods from exception handling (e.g. raise the ```NotImplementedError```).\n",
    "\n",
    "Since we do not want to use this class directly, but describe cats and dogs, let us start with implementing the class for dogs.\n",
    "\n",
    "This class inherits the properties from the ```Carnivora``` class and we indicate this by adding this in the definition of the class. In general:\n",
    "\n",
    "```class derived_class(base_class):```\n",
    "\n",
    "Python also supports multiple inheritance, i.e.\n",
    "\n",
    "```class derived_class(base_class_1, base_class_2, ...):```\n",
    "\n",
    "> ... but beware, dragons be here: \n",
    ">\n",
    "> Doing so can be very beneficial - but it also increases the complexity of the design very quickly. If you find yourself in this position, think very carefully if you really want to do this."
   ]
  },
  {
   "cell_type": "code",
   "execution_count": 5,
   "metadata": {},
   "outputs": [],
   "source": [
    "class Dog(Carnivora):\n",
    "    def __init__(self, name=''):\n",
    "        super().__init__(name)\n",
    "    \n",
    "    def speak(self):\n",
    "        print('Woof')"
   ]
  },
  {
   "cell_type": "markdown",
   "metadata": {},
   "source": [
    "Here we notice the following:\n",
    "\n",
    "* We define the class Dog (and name it as per convention with capital D), which inherits from our base-class Carnivora.\n",
    "* When we initialise an instance of the derived class Dog, we also implicitly need to initialise the base-class. \n",
    "  * Initialising the base class is done by the call to ```super().__init__```. Here, ```super()``` refers to the class we inherit from and Python figures out for us, which class that is.\n",
    "  * Because the initalisation of the base-class takes an argument with default value, we need to add the same argument to the derived class Dog and pass this along to the initialisation of the base-class.\n",
    "  * Note that in this case we *do* call the magic function ```__init__``` of the base-class directly!\n",
    "* Because we did not implement the function ```speak()``` in the base class, we need to **override** it here by a function with the same name (and arguments, if any)\n",
    "  * This is called an **abstract** method in the base class - one that needs to be overwritten in every sub-class that inherits from this class.\n",
    "* Because the base-class is not intended to be used directly, we call it an **abstract class** (In some other programming languages: virtual class)"
   ]
  },
  {
   "cell_type": "code",
   "execution_count": 8,
   "metadata": {},
   "outputs": [
    {
     "name": "stdout",
     "output_type": "stream",
     "text": [
      "Woof\n",
      "The name of the dog is: Rocky\n"
     ]
    }
   ],
   "source": [
    "dog = Dog('Rocky')\n",
    "dog.speak()\n",
    "print('The name of the dog is: {}'.format(dog.name()))"
   ]
  },
  {
   "cell_type": "markdown",
   "metadata": {},
   "source": [
    "## Exercise\n",
    "\n",
    "Implement a class \"Cat\" that inherits from the base-class \"Carnivora\" and override the ```speak()``` method accordingly (\"meow\")."
   ]
  }
 ],
 "metadata": {
  "kernelspec": {
   "display_name": "Python 3.10.6 64-bit",
   "language": "python",
   "name": "python3"
  },
  "language_info": {
   "codemirror_mode": {
    "name": "ipython",
    "version": 3
   },
   "file_extension": ".py",
   "mimetype": "text/x-python",
   "name": "python",
   "nbconvert_exporter": "python",
   "pygments_lexer": "ipython3",
   "version": "3.10.6"
  },
  "orig_nbformat": 4,
  "vscode": {
   "interpreter": {
    "hash": "916dbcbb3f70747c44a77c7bcd40155683ae19c65e1c03b4aa3499c5328201f1"
   }
  }
 },
 "nbformat": 4,
 "nbformat_minor": 2
}
