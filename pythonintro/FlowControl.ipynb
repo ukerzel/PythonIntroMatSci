{
 "cells": [
  {
   "cell_type": "markdown",
   "metadata": {},
   "source": [
    "# Flow Control\n",
    "\n",
    "\n",
    "So far we have encountered variables, basic data types (such as int, float, string, bool) and more complex data structures (list, dictionaries, etc.)\n",
    "\n",
    "In order to write some programs, we would need to check for conditions and then act accordingly whether or not a condition is met, or perform some calculations repeatedly.\n",
    "\n",
    "Therefore, we now look at elements how to control the flow of our programs:\n",
    "\n",
    "* ```if``` statements\n",
    "* ```for``` loops\n",
    "* ``` while``` loops\n",
    "* iterating over lists or dictionaries, etc.\n",
    "\n",
    "## Checking for conditions\n",
    "\n",
    "### If statement\n",
    "\n",
    "The ``if`` statement is the simplest way to conditionally execute some code (or not).\n",
    "\n",
    "The general syntax is:\n",
    "``` \n",
    "if condition:\n",
    "   action\n",
    "```\n",
    "\n",
    "The ```condition``` needs to evaluate to either ```True``` or ```False```, i.e. a boolean value.\n",
    "\n",
    "The fundamental checks are for some variables ```a``` and ```b```:\n",
    "\n",
    "* Equal: ```a == b```.  \n",
    "Note the double ``` ==``` : a single ```=``` is used for assignments, so we need to use the double ```==``` for a comparison\n",
    "* not equal: ``` a != b``` \n",
    "* less than: ```a < b``` or less equal ``` a <= b ```\n",
    "* greater than: ``` a > b``` or greater equal ``` a >= b```\n",
    "    "
   ]
  },
  {
   "cell_type": "code",
   "execution_count": 3,
   "metadata": {},
   "outputs": [
    {
     "name": "stdout",
     "output_type": "stream",
     "text": [
      "False\n",
      "--------\n"
     ]
    }
   ],
   "source": [
    "a = 1\n",
    "b = 2\n",
    "\n",
    "# First we can look what the condition might be:\n",
    "print (a > b)\n",
    "\n",
    "\n",
    "# now do a conditional:\n",
    "if a > b:\n",
    "    print('a is greater than b')\n",
    "\n",
    "print('--------')"
   ]
  },
  {
   "cell_type": "markdown",
   "metadata": {},
   "source": [
    "... where we note that the statement in the conditional was not executed.\n",
    "\n",
    "\n",
    "We also note a key concept in python: The code in the conditional statement is *** indented ***. Unlike other programming languages, python does not use, for example, brackets to indicte which parts of the code belong together but indentations.\n",
    "\n",
    "> **Note**\n",
    ">\n",
    "> Code that belongs together has the same level of indentation.\n",
    "\n",
    "This has the benefit that the code is much more readable as it forces us to write the code such that parts of the code that belong together also have the same level of indentation. It is also a source of confusing bugs if we accidently get the indentation wrong...\n",
    "\n",
    "\n",
    "To be more flexible, we can test for more than one condition using ```elif``` (else-if) and then finally ```else``` as a \"catch-all\" for all conditions that we have not met so far."
   ]
  },
  {
   "cell_type": "code",
   "execution_count": 7,
   "metadata": {},
   "outputs": [
    {
     "name": "stdout",
     "output_type": "stream",
     "text": [
      "none applies\n"
     ]
    }
   ],
   "source": [
    "a = 10\n",
    "\n",
    "if a > 100:\n",
    "    print ('a is greater than 100')\n",
    "elif a > 50:\n",
    "    print ('a is greater than 50')\n",
    "elif a > 10:\n",
    "    print ('a is greater than 10')\n",
    "else:\n",
    "    print ('none applies')"
   ]
  },
  {
   "cell_type": "code",
   "execution_count": 9,
   "metadata": {},
   "outputs": [
    {
     "name": "stdout",
     "output_type": "stream",
     "text": [
      "b greater than a\n"
     ]
    }
   ],
   "source": [
    "# if we only have one condition to test, we can write a short one-liner\n",
    "\n",
    "a = 1\n",
    "b = 2\n",
    "print ('a is greater than b') if a > b else print ('b is greater than a')"
   ]
  },
  {
   "cell_type": "markdown",
   "metadata": {},
   "source": [
    "We can also have more than one condition and combine them using ```and``` , ```or```."
   ]
  },
  {
   "cell_type": "code",
   "execution_count": 13,
   "metadata": {},
   "outputs": [],
   "source": [
    "a = 10\n",
    "b = 15\n",
    "\n",
    "if (a > 10) and (b < 20):\n",
    "    print('condition met')"
   ]
  },
  {
   "cell_type": "markdown",
   "metadata": {},
   "source": [
    "We can also nest ```if``` statements, i.e. have ```if``` statements within ```if``` statements.\n",
    "\n",
    "**Exercise**\n",
    "\n",
    "Write a nested ```if``` statement checking if the value of the variable ```a``` is above 25, and if yes, if it is  also above 30 or not."
   ]
  },
  {
   "cell_type": "code",
   "execution_count": 15,
   "metadata": {},
   "outputs": [
    {
     "name": "stdout",
     "output_type": "stream",
     "text": [
      "a is greater than 25\n",
      "a is not greater than 30\n"
     ]
    }
   ],
   "source": [
    "a = 27\n",
    "\n",
    "# ... your code here ...\n",
    "if a > 25:\n",
    "    print ('a is greater than 25')\n",
    "    if a > 30:\n",
    "        print('a is greater than 30')\n",
    "    else:\n",
    "        print('a is not greater than 30')"
   ]
  },
  {
   "cell_type": "markdown",
   "metadata": {},
   "source": [
    "---\n",
    "\n",
    "## for loops\n",
    "\n",
    "Quite often we want to execute the same code a fixed number of times. For example, we want to execute the code five times or we want to look at all elements of a list, a dictionary or even a string.\n",
    "In this case, we can use the ```for``` loop.\n",
    "\n",
    "The general syntax is \n",
    "``` \n",
    "for variable in list:\n",
    "        do something\n",
    "    else:\n",
    "        do something else\n",
    "```\n",
    "(where typically we do not need the ```else``` statement.)\n",
    "Again, note the indentations that define which part of the code belongs together.\n",
    "\n",
    "If we want to run the code a certain number of times, we can use the ```range(start, stop, step)``` function, where ```start``` specifies the number we want to start from, ```stop``` the final number (excluding this value) and ```step``` the step size. The step size is optional and assumed to be 1 if we do not specify it."
   ]
  },
  {
   "cell_type": "code",
   "execution_count": 17,
   "metadata": {},
   "outputs": [
    {
     "name": "stdout",
     "output_type": "stream",
     "text": [
      "The value of i is now 0\n",
      "The value of i is now 1\n",
      "The value of i is now 2\n",
      "The value of i is now 3\n",
      "The value of i is now 4\n"
     ]
    }
   ],
   "source": [
    "for i in range(0, 5, 1):\n",
    "    print('The value of i is now {}'.format(i))"
   ]
  },
  {
   "cell_type": "code",
   "execution_count": 18,
   "metadata": {},
   "outputs": [
    {
     "name": "stdout",
     "output_type": "stream",
     "text": [
      "I\n",
      " \n",
      "l\n",
      "o\n",
      "v\n",
      "e\n",
      " \n",
      "p\n",
      "y\n",
      "t\n",
      "h\n",
      "o\n",
      "n\n"
     ]
    }
   ],
   "source": [
    "# We can iterate over a string as well:\n",
    "my_string = 'I love python'\n",
    "for i in my_string:\n",
    "    print(i)"
   ]
  },
  {
   "cell_type": "markdown",
   "metadata": {},
   "source": [
    "In some cases we may need to end the execution of the ```for``` loop early. There are two ways to do this:\n",
    "\n",
    "* ```break```: this exists the loop and returns to the code outside the loop\n",
    "* ```continue```: do not execute the rest of the current iteration in the loop but start with the next iteration\n"
   ]
  },
  {
   "cell_type": "code",
   "execution_count": 2,
   "metadata": {},
   "outputs": [
    {
     "name": "stdout",
     "output_type": "stream",
     "text": [
      "The value of i is now 0\n",
      "The value of i is now 1\n",
      "The value of i is now 3\n",
      "The value of i is now 4\n"
     ]
    }
   ],
   "source": [
    "# Note here that we go through all values in the loop (0,1,2,3,4) but only print if the value is not equal to 2\n",
    "for i in range(0, 5, 1):\n",
    "    if i == 2:\n",
    "        continue\n",
    "\n",
    "    print('The value of i is now {}'.format(i))\n",
    "\n"
   ]
  },
  {
   "cell_type": "code",
   "execution_count": 3,
   "metadata": {},
   "outputs": [
    {
     "name": "stdout",
     "output_type": "stream",
     "text": [
      "The value of i is now 0\n",
      "The value of i is now 1\n"
     ]
    }
   ],
   "source": [
    "# Note here we abort the loop when we reach the value 2\n",
    "for i in range(0, 5, 1):\n",
    "    if i == 2:\n",
    "        break\n",
    "\n",
    "    print('The value of i is now {}'.format(i))\n"
   ]
  },
  {
   "cell_type": "markdown",
   "metadata": {},
   "source": [
    "### Exercise: Fibonacci Series\n",
    "\n",
    "The [Fibonacci Numbers](https://en.wikipedia.org/wiki/Fibonacci_number) are a sequence where the current number is derived from the sum of the two preceeding ones, i.e. $F_n = F_{n-1} + F_{n-2}$. The first two numbers are $F_1 = 0$ and $F_2 = 1$. Therefore, the next number is $F_3 = 0 + 1 = 1$\n",
    "\n",
    "Write a ```for``` loop to compute the first 10 digits of the Fibonacci series and then print the series.\n",
    "The output should be: \n",
    "```\n",
    "The Fibonacci numbers are: [0, 1, 1, 2, 3, 5, 8, 13, 21, 34]\n",
    "```"
   ]
  },
  {
   "cell_type": "code",
   "execution_count": 5,
   "metadata": {},
   "outputs": [],
   "source": [
    "# ... your code here ....\n",
    "\n"
   ]
  },
  {
   "cell_type": "markdown",
   "metadata": {},
   "source": [
    "## While Loops\n",
    "\n",
    "The for loop is pre-defined in the sense that the number of times the loop is executed is defined beforehand. If we loop, for example, over a dictionary or a list, we can access the individual elements and work with them.\n",
    "\n",
    "However, in many other cases we want to continue the execution until a suitable condition is met. In these cases, we use a ```while``` loop.\n",
    "The general syntax is:\n",
    "\n",
    "```\n",
    "while <Statement is true>:\n",
    "    do something\n",
    "else:\n",
    "    do something else\n",
    "```\n",
    "\n",
    "As with the ```for``` loop or the ```if``` statement, the ```else``` clause is optional."
   ]
  },
  {
   "cell_type": "code",
   "execution_count": 9,
   "metadata": {},
   "outputs": [
    {
     "name": "stdout",
     "output_type": "stream",
     "text": [
      "The value of i is now 0\n",
      "The value of i is now 1\n",
      "The value of i is now 2\n",
      "The value of i is now 3\n",
      "The value of i is now 4\n",
      "The value of i is now 5\n",
      "The value of i is now 6\n",
      "The value of i is now 7\n",
      "The value of i is now 8\n",
      "The value of i is now 9\n",
      "The value of i is now 10\n"
     ]
    }
   ],
   "source": [
    "i = 0\n",
    "while i  <= 10:\n",
    "     print('The value of i is now {}'.format(i))\n",
    "     i = i +1\n"
   ]
  },
  {
   "cell_type": "markdown",
   "metadata": {},
   "source": [
    "Again, we can terminate the execution of the loop early with ```break``` and ```continue```.\n",
    "\n",
    "***Note***\n",
    "\n",
    "It is quite important to think what will happen to the loop if we do use these statements.\n",
    "For example, in the code below we first increase i, then do the check and then print the value, whereas above we first printed the value and then increased it by 1. We observe that, indeed, the value 2 is not printed, but the loop  now runs between 1,...,11 instead of 0,...,10. However, if we were to place the statements in other orders, we would find that either there is not effect (the execution skips over everything after ```continue```) or we have an infinite loop, ...\n",
    "Using these statements can be quite tricky and you may introduce subtle bugs or unwanted behaviour with them...\n",
    "\n",
    "***Exercise***\n",
    "\n",
    "Try and see what the effect is of using a different order of statements inside the loop."
   ]
  },
  {
   "cell_type": "code",
   "execution_count": 17,
   "metadata": {},
   "outputs": [
    {
     "name": "stdout",
     "output_type": "stream",
     "text": [
      "The value of i is now 1\n",
      "The value of i is now 3\n",
      "The value of i is now 4\n",
      "The value of i is now 5\n",
      "The value of i is now 6\n",
      "The value of i is now 7\n",
      "The value of i is now 8\n",
      "The value of i is now 9\n",
      "The value of i is now 10\n",
      "The value of i is now 11\n"
     ]
    }
   ],
   "source": [
    "i = 0\n",
    "while i  <= 10:    \n",
    "    i = i +1\n",
    "    if i == 2:\n",
    "        continue\n",
    "    print('The value of i is now {}'.format(i))\n",
    "    \n",
    "\n"
   ]
  },
  {
   "cell_type": "code",
   "execution_count": 18,
   "metadata": {},
   "outputs": [
    {
     "name": "stdout",
     "output_type": "stream",
     "text": [
      "The value of i is now 0\n",
      "The value of i is now 1\n"
     ]
    }
   ],
   "source": [
    "i = 0\n",
    "while i  <= 10:    \n",
    "     print('The value of i is now {}'.format(i))\n",
    "     i = i +1\n",
    "     if i == 2:\n",
    "        break"
   ]
  },
  {
   "cell_type": "markdown",
   "metadata": {},
   "source": [
    "### Exercise\n",
    "\n",
    "Rewrite the Fibonacci Series as a ```while``` loop, terminating after the list is 10 elements long.\n",
    "(Alternatively, until the series arrives at the value of 34.)"
   ]
  },
  {
   "cell_type": "code",
   "execution_count": 21,
   "metadata": {},
   "outputs": [],
   "source": [
    "# ... your code here ..."
   ]
  }
 ],
 "metadata": {
  "kernelspec": {
   "display_name": "Python 3.10.6 ('pythonintro-A08DqnGu-py3.10')",
   "language": "python",
   "name": "python3"
  },
  "language_info": {
   "codemirror_mode": {
    "name": "ipython",
    "version": 3
   },
   "file_extension": ".py",
   "mimetype": "text/x-python",
   "name": "python",
   "nbconvert_exporter": "python",
   "pygments_lexer": "ipython3",
   "version": "3.10.6"
  },
  "orig_nbformat": 4,
  "vscode": {
   "interpreter": {
    "hash": "eb3a944512c48027e49906d9e47d21cfb9b2c1ddd33f9b79c72df4b5e3a553dc"
   }
  }
 },
 "nbformat": 4,
 "nbformat_minor": 2
}
