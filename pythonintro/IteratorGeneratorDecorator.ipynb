{
 "cells": [
  {
   "cell_type": "markdown",
   "metadata": {},
   "source": [
    "# Iterators\n",
    "\n",
    "We have previously seen that we can iterate over items in, for example, a dictionary or a list.\n",
    "\n",
    "For example:"
   ]
  },
  {
   "cell_type": "code",
   "execution_count": 1,
   "metadata": {},
   "outputs": [
    {
     "name": "stdout",
     "output_type": "stream",
     "text": [
      "cat\n",
      "dog\n",
      "bird\n"
     ]
    }
   ],
   "source": [
    "my_list = ['cat', 'dog', 'bird']\n",
    "\n",
    "for item in my_list:\n",
    "    print(item)\n",
    "    "
   ]
  },
  {
   "cell_type": "markdown",
   "metadata": {},
   "source": [
    "This loop iterates over all elements in the list, gives us access to each element in turn and then stops once we reach the end of the list.\n",
    "\n",
    "We could do this manually by creating an *iterator* and then use this to traverse the list, until no more elements are left over and an ```StopIteration``` exception is raised.\n",
    "\n",
    "We define the iterator with the keyword ```my_iter = iter(my_object)``` and then proceed to the next item with ```next(my_iter)```."
   ]
  },
  {
   "cell_type": "code",
   "execution_count": 2,
   "metadata": {},
   "outputs": [
    {
     "name": "stdout",
     "output_type": "stream",
     "text": [
      "cat\n",
      "dog\n",
      "bird\n",
      "Reached the end of the list \n"
     ]
    }
   ],
   "source": [
    "my_list = ['cat', 'dog', 'bird']\n",
    "\n",
    "my_iter = iter(my_list)\n",
    "\n",
    "try:\n",
    "    while True:\n",
    "        print(next(my_iter))\n",
    "except StopIteration as e:\n",
    "    print('Reached the end of the list {}'.format(e))"
   ]
  },
  {
   "cell_type": "markdown",
   "metadata": {},
   "source": [
    "Obviously, this is quite a horrible way to loop over a list (though some programming languages are not far off from doing this as the default way...)\n",
    "\n",
    "One situation where we need to think about iterators is when we need to define a class that we can iterate over.\n",
    "Then wen need to implement the \"magic\" (or dunder) functions ```__iter__()``` and ```__next__()```. Remember that the double underscores before and after the keywords indicate that we should not call these methods ourselves. \\\n",
    "For example, you may need to develop a more fancy list, a counter, an even more powerful dictionary, ..."
   ]
  },
  {
   "cell_type": "code",
   "execution_count": 3,
   "metadata": {},
   "outputs": [
    {
     "name": "stdout",
     "output_type": "stream",
     "text": [
      "Value of the counter is now: 0\n",
      "Value of the counter is now: 1\n",
      "Value of the counter is now: 2\n",
      "Value of the counter is now: 3\n",
      "Value of the counter is now: 4\n",
      "Value of the counter is now: 5\n"
     ]
    }
   ],
   "source": [
    "class Counter:\n",
    "    def __init__(self, start, stop):\n",
    "        # number: our counter we want to iterate over\n",
    "        self.number = start\n",
    "        self.stop = stop\n",
    "\n",
    "    def __iter__(self):\n",
    "        return self\n",
    "    \n",
    "    def __next__(self):\n",
    "        # check if we have reached the largest number we want to run over\n",
    "        if self.number > self.stop:\n",
    "            raise StopIteration\n",
    "        else:\n",
    "            current_number = self.number\n",
    "            self.number = self.number + 1\n",
    "            return current_number\n",
    "\n",
    "\n",
    "my_counter = Counter(0, 5)\n",
    "for counter in my_counter:\n",
    "    print('Value of the counter is now: {}'.format(counter))"
   ]
  },
  {
   "cell_type": "markdown",
   "metadata": {},
   "source": [
    "# Generators\n",
    "\n",
    "Generators in python are special functions that remember their state each time you call them. Remeber that with the \"normal\" function we have seen earlier, we call the function, do our computations or other actions, maybe define local variables, etc. We may return the result of what the function does - but then the fuction is \"forgotten\".\n",
    "\n",
    "In some cases, we may want to remember the state of the function. For example, we could read from a very large file: If it's very large, we cannot keep it in memory, but need to parse the content one line at the time. However, it would be very cumbersome to open a file, read one line, remember which line we have read, close the file, open the file, jump to the appropriate place, etc. \\\n",
    "Another use-case is we want to compute a long list of elements - but we do not know how many to start with. We could do this with a ```for``` or ```while``` loop (as we have done previously) and define the start and stop conditions.\n",
    "\n",
    "Generators provide a neat way to do this without having to decide on start or stop condition in the function and, instead, focus on the function itself.\n",
    "\n",
    "Generators are defined very similarly to normal functions, the main difference is the keyword ```yield```. When we encounter the ```yield``` statement, the execution of the function is stopped, we return a generator object (instead of the value), and the current state of the function is kept\n",
    "\n",
    "**Example** \\\n",
    "Infinite sum - we want to obtain the sum of all integers until we decide to stop."
   ]
  },
  {
   "cell_type": "code",
   "execution_count": 10,
   "metadata": {},
   "outputs": [
    {
     "name": "stdout",
     "output_type": "stream",
     "text": [
      "0\n",
      "1\n",
      "2\n",
      "3\n",
      "4\n",
      "5\n",
      "6\n",
      "7\n"
     ]
    }
   ],
   "source": [
    "def my_infinite_sum():\n",
    "    sum = 0\n",
    "    while True:\n",
    "        yield sum\n",
    "        sum = sum + 1\n",
    "\n",
    "# Then we can use this and print a few elements\n",
    "my_generator = my_infinite_sum()\n",
    "print(next(my_generator))\n",
    "\n",
    "print(next(my_generator))\n",
    "\n",
    "print(next(my_generator))\n",
    "\n",
    "# we can also loop over this\n",
    "for i in range(0, 5):\n",
    "    print(next(my_generator))"
   ]
  },
  {
   "cell_type": "markdown",
   "metadata": {},
   "source": [
    "We can also introduce a stop criterion that prevents us from reaching the ```yield``` statement. Then, as with the iterators above, a ```StopIteration``` exception to signal the end."
   ]
  },
  {
   "cell_type": "code",
   "execution_count": 11,
   "metadata": {},
   "outputs": [
    {
     "name": "stdout",
     "output_type": "stream",
     "text": [
      "0\n",
      "1\n",
      "2\n",
      "3\n",
      "4\n"
     ]
    }
   ],
   "source": [
    "def my_infinite_sum(stop):\n",
    "    sum = 0\n",
    "    while sum < stop:\n",
    "        yield sum\n",
    "        sum = sum + 1\n",
    "\n",
    "my_generator = my_infinite_sum(5)        \n",
    "for i in my_generator:\n",
    "    print(i)"
   ]
  },
  {
   "cell_type": "markdown",
   "metadata": {},
   "source": [
    "***Exercise***\n",
    "\n",
    "Rewrite the function for the Fibonacci series as a generator."
   ]
  },
  {
   "cell_type": "code",
   "execution_count": null,
   "metadata": {},
   "outputs": [],
   "source": [
    "def fibonacci():\n",
    "# ... your code here ...    \n",
    "        \n",
    "\n",
    "\n",
    "my_generator = fibonacci()\n",
    "\n",
    "i = 0\n",
    "while i < 10:\n",
    "    print('Next Fibonacci number {}'.format(next(my_generator)))\n",
    "    i = i+1"
   ]
  },
  {
   "cell_type": "markdown",
   "metadata": {},
   "source": [
    "You should obtain the output:\n",
    "```\n",
    "Next Fibonacci number 0\n",
    "Next Fibonacci number 1\n",
    "Next Fibonacci number 1\n",
    "Next Fibonacci number 2\n",
    "Next Fibonacci number 3\n",
    "Next Fibonacci number 5\n",
    "Next Fibonacci number 8\n",
    "Next Fibonacci number 13\n",
    "Next Fibonacci number 21\n",
    "Next Fibonacci number 34\n",
    "```\n",
    "\n",
    "While we have not avoided writing more code using the generator for the Fibonacci series, we have now separated the computation from the loop.\n",
    "This allows us to further modularise the code and make it more flexible - and easier to debug. Also, conceptionally we have separted the actual computation from the way we use it."
   ]
  },
  {
   "cell_type": "markdown",
   "metadata": {},
   "source": [
    "# Decorators\n",
    "\n",
    "Decorators are \"higher-level functions\" - they are functions that operate on functions. \\\n",
    "This allows them to change the behaviour of the function without modifying the function itself.\n",
    "\n",
    "There are many situations where this might be useful. For example, you might want to add additional print statements for debugging purpuses without clogging up your code, check the type of variables you pass to the function without changing the function itself, you might want to time how long the execution of a function takes, how much memory it consumes, etc.\n",
    "Besides, there are software packages that, for example, speed up your code without you having to modify it.\n",
    "\n",
    "The general syntax is:\n",
    "\n",
    "```\n",
    "def my_decorator(func):\n",
    "    def wrapper(*args, **kwargs):\n",
    "        # do something before we call the function \n",
    "        result = func(*args, **kwargs)\n",
    "        # do something after the function returns\n",
    "        return result\n",
    "    return wrapper\n",
    "```\n",
    "\n",
    "We note:\n",
    "* We define the decorator as an outer function that takes the function we want to manipulate as an argument.\n",
    "* The constructs ```*args, **kwargs``` pass the arguments through the decorator to the function. Remeber that we do not know how many and which arguments we might have, hence we  have to use the construct with the single and double asterix."
   ]
  },
  {
   "cell_type": "code",
   "execution_count": 14,
   "metadata": {},
   "outputs": [],
   "source": [
    "# define the decorator\n",
    "def my_decorator(func):\n",
    "    def wrapper(*args, **kwargs):\n",
    "        print('Before the function starts')\n",
    "        result = func(*args, **kwargs)\n",
    "        print('After the function ends')\n",
    "        return result\n",
    "    return wrapper\n",
    "\n",
    "\n"
   ]
  },
  {
   "cell_type": "code",
   "execution_count": 15,
   "metadata": {},
   "outputs": [
    {
     "name": "stdout",
     "output_type": "stream",
     "text": [
      "The sum is 3\n"
     ]
    }
   ],
   "source": [
    "# define the function\n",
    "def sum(a,b):\n",
    "    return a + b\n",
    "\n",
    "# execute the function normally:\n",
    "c = sum(1,2)\n",
    "print('The sum is {}'.format(c))"
   ]
  },
  {
   "cell_type": "markdown",
   "metadata": {},
   "source": [
    "Now we use the decorator. There are two ways of calling the decorator:\n",
    "\n",
    "* We can \"wrap\" the function by \"replacing\" it with the call to the decorator with the function as an argument\n",
    "* We use the ```@``` symbol with the name of the decorator when we define the function.\n",
    "\n",
    "The first approach is a little \"clunky\" as it adds a bit of code..."
   ]
  },
  {
   "cell_type": "code",
   "execution_count": 16,
   "metadata": {},
   "outputs": [
    {
     "name": "stdout",
     "output_type": "stream",
     "text": [
      "Before the function starts\n",
      "After the function ends\n",
      "The sum is 3\n"
     ]
    }
   ],
   "source": [
    "# Method 1\n",
    "\n",
    "# define the function\n",
    "def sum(a,b):\n",
    "    return a + b\n",
    "\n",
    "sum = my_decorator(sum)\n",
    "\n",
    "c = sum(1,2)\n",
    "print('The sum is {}'.format(c))\n"
   ]
  },
  {
   "cell_type": "code",
   "execution_count": 17,
   "metadata": {},
   "outputs": [
    {
     "name": "stdout",
     "output_type": "stream",
     "text": [
      "Before the function starts\n",
      "After the function ends\n",
      "The sum is 3\n"
     ]
    }
   ],
   "source": [
    "# Method 2\n",
    "\n",
    "@my_decorator\n",
    "def sum(a,b):\n",
    "    return a + b\n",
    "\n",
    "c = sum(1,2)\n",
    "print('The sum is {}'.format(c))  "
   ]
  },
  {
   "cell_type": "markdown",
   "metadata": {},
   "source": [
    "Here you can see that we modify the behaviour of the function by \"just\" adding the decorator which has been defined elsewhere.\n",
    "We do not modify the function itself, the only difference is that we use the ```@my_decorator```.\n",
    "\n",
    "This can lead to interesting behaviour...\n",
    "\n",
    "***Exercise***\\\n",
    "Write a decorator for the sum that intercepts the result and adds 10."
   ]
  },
  {
   "cell_type": "code",
   "execution_count": null,
   "metadata": {},
   "outputs": [],
   "source": [
    "# ... your code here ..."
   ]
  }
 ],
 "metadata": {
  "kernelspec": {
   "display_name": "Python 3.10.6 ('pythonintro-A08DqnGu-py3.10')",
   "language": "python",
   "name": "python3"
  },
  "language_info": {
   "codemirror_mode": {
    "name": "ipython",
    "version": 3
   },
   "file_extension": ".py",
   "mimetype": "text/x-python",
   "name": "python",
   "nbconvert_exporter": "python",
   "pygments_lexer": "ipython3",
   "version": "3.10.6"
  },
  "orig_nbformat": 4,
  "vscode": {
   "interpreter": {
    "hash": "eb3a944512c48027e49906d9e47d21cfb9b2c1ddd33f9b79c72df4b5e3a553dc"
   }
  }
 },
 "nbformat": 4,
 "nbformat_minor": 2
}
