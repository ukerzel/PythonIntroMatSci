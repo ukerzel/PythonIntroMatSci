{
 "cells": [
  {
   "cell_type": "code",
   "execution_count": 6,
   "metadata": {},
   "outputs": [
    {
     "name": "stdout",
     "output_type": "stream",
     "text": [
      "run\n"
     ]
    }
   ],
   "source": [
    "##\n",
    "## print the word 'run' from the string 'nurse'\n",
    "##\n",
    "my_word = 'nurse'\n",
    "print(my_word[2::-1])\n"
   ]
  },
  {
   "cell_type": "code",
   "execution_count": 2,
   "metadata": {},
   "outputs": [
    {
     "name": "stdout",
     "output_type": "stream",
     "text": [
      "The Fibonacci numbers are: [0, 1, 1, 2, 3, 5, 8, 13, 21, 34]\n"
     ]
    }
   ],
   "source": [
    "##\n",
    "## Fibonacci Numbers --- For Loop\n",
    "##\n",
    "\n",
    "Fibonacci = [0, 1]\n",
    "for i in range(2,10,1):\n",
    "    Fib = Fibonacci[i-1]  + Fibonacci[i-2]\n",
    "    Fibonacci.append(Fib)\n",
    "\n",
    "print('The Fibonacci numbers are: {}'.format(Fibonacci))\n",
    "\n"
   ]
  },
  {
   "cell_type": "code",
   "execution_count": null,
   "metadata": {},
   "outputs": [],
   "source": [
    "##\n",
    "## Fibonacci Numbers --- While Loop\n",
    "##\n",
    "\n",
    "Fibonacci = [0, 1]\n",
    "\n",
    "while len(Fibonacci) < 10:\n",
    "    Fib = Fibonacci[-1] + Fibonacci[-2]\n",
    "    Fibonacci.append(Fib)\n",
    "\n",
    "print('The Fibonacci numbers are: {}'.format(Fibonacci))"
   ]
  }
 ],
 "metadata": {
  "kernelspec": {
   "display_name": "Python 3.10.6 ('pythonintro-A08DqnGu-py3.10')",
   "language": "python",
   "name": "python3"
  },
  "language_info": {
   "codemirror_mode": {
    "name": "ipython",
    "version": 3
   },
   "file_extension": ".py",
   "mimetype": "text/x-python",
   "name": "python",
   "nbconvert_exporter": "python",
   "pygments_lexer": "ipython3",
   "version": "3.10.6"
  },
  "orig_nbformat": 4,
  "vscode": {
   "interpreter": {
    "hash": "eb3a944512c48027e49906d9e47d21cfb9b2c1ddd33f9b79c72df4b5e3a553dc"
   }
  }
 },
 "nbformat": 4,
 "nbformat_minor": 2
}
