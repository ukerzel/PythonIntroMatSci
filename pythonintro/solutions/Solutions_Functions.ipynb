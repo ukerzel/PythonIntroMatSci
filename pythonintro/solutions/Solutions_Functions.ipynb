{
 "cells": [
  {
   "cell_type": "markdown",
   "metadata": {},
   "source": [
    "## Functions\n",
    "\n",
    "A simple function"
   ]
  },
  {
   "cell_type": "code",
   "execution_count": null,
   "metadata": {},
   "outputs": [
    {
     "name": "stdout",
     "output_type": "stream",
     "text": [
      "The Fibonacci numbers are: [0, 1, 1, 2, 3, 5, 8, 13, 21, 34]\n"
     ]
    }
   ],
   "source": [
    "##\n",
    "## Fibonacci Numbers --- Function\n",
    "##\n",
    "\n",
    "def compute_Fibonacci(n_numbers):\n",
    "    return_list = [0, 1]\n",
    "    for i in range(2,n_numbers,1):\n",
    "        Fib = return_list[i-1]  + return_list[i-2]\n",
    "        return_list.append(Fib)\n",
    "    return return_list\n",
    "\n",
    "Fib = compute_Fibonacci(n_numbers=10)\n",
    "\n",
    "print('The Fibonacci numbers are: {}'.format(Fib))\n"
   ]
  },
  {
   "cell_type": "markdown",
   "metadata": {},
   "source": [
    "## Recursive Function\n",
    "\n",
    "Variant 1:"
   ]
  },
  {
   "cell_type": "code",
   "execution_count": 1,
   "metadata": {},
   "outputs": [
    {
     "name": "stdout",
     "output_type": "stream",
     "text": [
      "the Fibonacci number is: 0\n",
      "the Fibonacci number is: 1\n",
      "the Fibonacci number is: 1\n",
      "the Fibonacci number is: 2\n",
      "the Fibonacci number is: 3\n",
      "the Fibonacci number is: 5\n",
      "the Fibonacci number is: 8\n",
      "the Fibonacci number is: 13\n",
      "the Fibonacci number is: 21\n",
      "the Fibonacci number is: 34\n"
     ]
    }
   ],
   "source": [
    "def Fibonacci(n):\n",
    "    if n < 0:               # not defined for negative numbers\n",
    "        return None\n",
    "    if n <= 1:              # first two numbers are 0, 1, stopping criterion\n",
    "        return n\n",
    "    else:                   # recursive call\n",
    "        return Fibonacci(n-1) + Fibonacci(n-2)\n",
    "\n",
    "for i in range(0,10):\n",
    "    fib = Fibonacci(i)\n",
    "    print('the Fibonacci number is: {}'.format(fib))"
   ]
  },
  {
   "cell_type": "markdown",
   "metadata": {},
   "source": [
    "Variant 2: Lambda function\n",
    "\n",
    "**N.B.** \\\n",
    "While this one-line definition is very compact, we no longer have a safe-guard against, e.g. negative numbers.\n",
    "Depending on our use-case, this definition is very helpful, but we need to be sure that we do not run into unexpected cases."
   ]
  },
  {
   "cell_type": "code",
   "execution_count": 5,
   "metadata": {},
   "outputs": [
    {
     "name": "stdout",
     "output_type": "stream",
     "text": [
      "the Fibonacci number is: 0\n",
      "the Fibonacci number is: 1\n",
      "the Fibonacci number is: 1\n",
      "the Fibonacci number is: 2\n",
      "the Fibonacci number is: 3\n",
      "the Fibonacci number is: 5\n",
      "the Fibonacci number is: 8\n",
      "the Fibonacci number is: 13\n",
      "the Fibonacci number is: 21\n",
      "the Fibonacci number is: 34\n"
     ]
    }
   ],
   "source": [
    "# fib = lambda x: x if x <= 1 else fib(x - 1) + fib(x - 2)\n",
    "Fibonacci = lambda n:  n if n <= 1 else Fibonacci(n-1) + Fibonacci(n-2)\n",
    "\n",
    "for i in range(0,10):\n",
    "    fib = Fibonacci(i)\n",
    "    print('the Fibonacci number is: {}'.format(fib))\n"
   ]
  },
  {
   "cell_type": "markdown",
   "metadata": {},
   "source": [
    "## Generator"
   ]
  },
  {
   "cell_type": "code",
   "execution_count": null,
   "metadata": {},
   "outputs": [
    {
     "name": "stdout",
     "output_type": "stream",
     "text": [
      "Next Fibonacci number 0\n",
      "Next Fibonacci number 1\n",
      "Next Fibonacci number 2\n",
      "Next Fibonacci number 3\n",
      "Next Fibonacci number 5\n",
      "Next Fibonacci number 8\n",
      "Next Fibonacci number 13\n",
      "Next Fibonacci number 21\n",
      "Next Fibonacci number 34\n",
      "Next Fibonacci number 55\n"
     ]
    }
   ],
   "source": [
    "##\n",
    "## Fibonacci Numbers --- Generator\n",
    "##\n",
    "\n",
    "def fibonacci():\n",
    "    x = 0\n",
    "    y = 1\n",
    "    fib = 0\n",
    "    while True:\n",
    "        yield fib\n",
    "        fib = y + x\n",
    "        x = y\n",
    "        y = fib   \n",
    "    \n",
    "\n",
    "my_generator = fibonacci()\n",
    "\n",
    "i = 0\n",
    "while i < 10:\n",
    "    print('Next Fibonacci number {}'.format(next(my_generator)))\n",
    "    i = i+1\n",
    "\n"
   ]
  },
  {
   "cell_type": "markdown",
   "metadata": {},
   "source": [
    "Python also allows to write multiple assignments on the same line, while during this assingment the value of the variables remains the same.\n",
    "This allows for a slightly more efficient code:"
   ]
  },
  {
   "cell_type": "code",
   "execution_count": null,
   "metadata": {},
   "outputs": [
    {
     "name": "stdout",
     "output_type": "stream",
     "text": [
      "Next Fibonacci number 0\n",
      "Next Fibonacci number 1\n",
      "Next Fibonacci number 1\n",
      "Next Fibonacci number 2\n",
      "Next Fibonacci number 3\n",
      "Next Fibonacci number 5\n",
      "Next Fibonacci number 8\n",
      "Next Fibonacci number 13\n",
      "Next Fibonacci number 21\n",
      "Next Fibonacci number 34\n"
     ]
    }
   ],
   "source": [
    "##\n",
    "## Fibonacci Numbers --- Generator (alternative)\n",
    "##\n",
    "\n",
    "def fibonacci():\n",
    "    # same as above - first assignment is x = 0, second assignment is y = 1\n",
    "    x, y = 0,  1\n",
    "\n",
    "    while True:\n",
    "        yield x\n",
    "        # note here we need one variable less. We are assigning x = y and y = x + y at the same time, so their values do not change\n",
    "        # Therefore, we do not need an intermediate variable in between.\n",
    "        x, y = y, x + y     \n",
    "        \n",
    "\n",
    "\n",
    "my_generator = fibonacci()\n",
    "\n",
    "i = 0\n",
    "while i < 10:\n",
    "    print('Next Fibonacci number {}'.format(next(my_generator)))\n",
    "    i = i+1"
   ]
  }
 ],
 "metadata": {
  "kernelspec": {
   "display_name": "Python 3.10.6 ('pythonintro-hKmMjISb-py3.10')",
   "language": "python",
   "name": "python3"
  },
  "language_info": {
   "codemirror_mode": {
    "name": "ipython",
    "version": 3
   },
   "file_extension": ".py",
   "mimetype": "text/x-python",
   "name": "python",
   "nbconvert_exporter": "python",
   "pygments_lexer": "ipython3",
   "version": "3.10.6"
  },
  "orig_nbformat": 4,
  "vscode": {
   "interpreter": {
    "hash": "8eb59338b0c14423ef4b72291999b63587c3ee4bd1b8d960807ae48fbf6679f5"
   }
  }
 },
 "nbformat": 4,
 "nbformat_minor": 2
}
