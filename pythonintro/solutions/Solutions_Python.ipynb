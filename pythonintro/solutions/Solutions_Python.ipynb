{
 "cells": [
  {
   "cell_type": "code",
   "execution_count": 6,
   "metadata": {},
   "outputs": [
    {
     "name": "stdout",
     "output_type": "stream",
     "text": [
      "run\n"
     ]
    }
   ],
   "source": [
    "##\n",
    "## print the word 'run' from the string 'nurse'\n",
    "##\n",
    "my_word = 'nurse'\n",
    "print(my_word[2::-1])\n"
   ]
  },
  {
   "cell_type": "markdown",
   "metadata": {},
   "source": [
    "---\n",
    "\n",
    "## Fibonacci numbers\n",
    "\n",
    "Loops using ```for``` and ```while```"
   ]
  },
  {
   "cell_type": "code",
   "execution_count": 2,
   "metadata": {},
   "outputs": [
    {
     "name": "stdout",
     "output_type": "stream",
     "text": [
      "The Fibonacci numbers are: [0, 1, 1, 2, 3, 5, 8, 13, 21, 34]\n"
     ]
    }
   ],
   "source": [
    "##\n",
    "## Fibonacci Numbers --- For Loop\n",
    "##\n",
    "\n",
    "Fibonacci = [0, 1]\n",
    "for i in range(2,10,1):\n",
    "    Fib = Fibonacci[i-1]  + Fibonacci[i-2]\n",
    "    Fibonacci.append(Fib)\n",
    "\n",
    "print('The Fibonacci numbers are: {}'.format(Fibonacci))\n",
    "\n"
   ]
  },
  {
   "cell_type": "code",
   "execution_count": null,
   "metadata": {},
   "outputs": [],
   "source": [
    "##\n",
    "## Fibonacci Numbers --- While Loop\n",
    "##\n",
    "\n",
    "Fibonacci = [0, 1]\n",
    "\n",
    "while len(Fibonacci) < 10:\n",
    "    Fib = Fibonacci[-1] + Fibonacci[-2]\n",
    "    Fibonacci.append(Fib)\n",
    "\n",
    "print('The Fibonacci numbers are: {}'.format(Fibonacci))"
   ]
  },
  {
   "cell_type": "markdown",
   "metadata": {},
   "source": [
    "---\n",
    "## Decorator"
   ]
  },
  {
   "cell_type": "code",
   "execution_count": 30,
   "metadata": {},
   "outputs": [
    {
     "name": "stdout",
     "output_type": "stream",
     "text": [
      "The sum is 13\n"
     ]
    }
   ],
   "source": [
    "# define the decorator\n",
    "def my_decorator(func):\n",
    "    def wrapper(*args, **kwargs):\n",
    "        result = func(*args, **kwargs)\n",
    "        result = result  + 10\n",
    "        return result\n",
    "    return wrapper\n",
    "\n",
    "@my_decorator\n",
    "def sum(a,b):\n",
    "    return a + b\n",
    "\n",
    "c = sum(1,2)\n",
    "print('The sum is {}'.format(c))"
   ]
  },
  {
   "cell_type": "markdown",
   "metadata": {},
   "source": [
    "---\n",
    "\n",
    "# Writing to a file\n",
    "\n",
    "Write the first 10 digits of the Fibonacci series to a file"
   ]
  },
  {
   "cell_type": "code",
   "execution_count": 7,
   "metadata": {},
   "outputs": [],
   "source": [
    "def fibonacci():\n",
    "    x, y = 0,  1\n",
    "\n",
    "    while True:\n",
    "        yield x\n",
    "        x, y = y, x + y     \n",
    "        \n",
    "\n",
    "\n",
    "my_generator = fibonacci()\n",
    "\n",
    "\n",
    "with open('fibonacci.txt','w') as f:\n",
    "    i = 0\n",
    "    while i < 10:\n",
    "        number = next(my_generator)\n",
    "        f.write(str(number) + '\\n')\n",
    "        i = i+1"
   ]
  }
 ],
 "metadata": {
  "kernelspec": {
   "display_name": "Python 3.10.6 ('pythonintro-hKmMjISb-py3.10')",
   "language": "python",
   "name": "python3"
  },
  "language_info": {
   "codemirror_mode": {
    "name": "ipython",
    "version": 3
   },
   "file_extension": ".py",
   "mimetype": "text/x-python",
   "name": "python",
   "nbconvert_exporter": "python",
   "pygments_lexer": "ipython3",
   "version": "3.10.6"
  },
  "orig_nbformat": 4,
  "vscode": {
   "interpreter": {
    "hash": "8eb59338b0c14423ef4b72291999b63587c3ee4bd1b8d960807ae48fbf6679f5"
   }
  }
 },
 "nbformat": 4,
 "nbformat_minor": 2
}
