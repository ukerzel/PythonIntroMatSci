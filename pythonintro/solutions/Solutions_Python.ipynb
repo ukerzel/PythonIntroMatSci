{
 "cells": [
  {
   "cell_type": "code",
   "execution_count": 6,
   "metadata": {},
   "outputs": [
    {
     "name": "stdout",
     "output_type": "stream",
     "text": [
      "run\n"
     ]
    }
   ],
   "source": [
    "##\n",
    "## print the word 'run' from the string 'nurse'\n",
    "##\n",
    "my_word = 'nurse'\n",
    "print(my_word[2::-1])\n"
   ]
  },
  {
   "cell_type": "markdown",
   "metadata": {},
   "source": [
    "---\n",
    "\n",
    "## Fibonacci numbers"
   ]
  },
  {
   "cell_type": "code",
   "execution_count": 2,
   "metadata": {},
   "outputs": [
    {
     "name": "stdout",
     "output_type": "stream",
     "text": [
      "The Fibonacci numbers are: [0, 1, 1, 2, 3, 5, 8, 13, 21, 34]\n"
     ]
    }
   ],
   "source": [
    "##\n",
    "## Fibonacci Numbers --- For Loop\n",
    "##\n",
    "\n",
    "Fibonacci = [0, 1]\n",
    "for i in range(2,10,1):\n",
    "    Fib = Fibonacci[i-1]  + Fibonacci[i-2]\n",
    "    Fibonacci.append(Fib)\n",
    "\n",
    "print('The Fibonacci numbers are: {}'.format(Fibonacci))\n",
    "\n"
   ]
  },
  {
   "cell_type": "code",
   "execution_count": null,
   "metadata": {},
   "outputs": [],
   "source": [
    "##\n",
    "## Fibonacci Numbers --- While Loop\n",
    "##\n",
    "\n",
    "Fibonacci = [0, 1]\n",
    "\n",
    "while len(Fibonacci) < 10:\n",
    "    Fib = Fibonacci[-1] + Fibonacci[-2]\n",
    "    Fibonacci.append(Fib)\n",
    "\n",
    "print('The Fibonacci numbers are: {}'.format(Fibonacci))"
   ]
  },
  {
   "cell_type": "code",
   "execution_count": 10,
   "metadata": {},
   "outputs": [
    {
     "name": "stdout",
     "output_type": "stream",
     "text": [
      "The Fibonacci numbers are: [0, 1, 1, 2, 3, 5, 8, 13, 21, 34]\n"
     ]
    }
   ],
   "source": [
    "##\n",
    "## Fibonacci Numbers --- Function\n",
    "##\n",
    "\n",
    "def compute_Fibonacci(n_numbers):\n",
    "    return_list = [0, 1]\n",
    "    for i in range(2,n_numbers,1):\n",
    "        Fib = return_list[i-1]  + return_list[i-2]\n",
    "        return_list.append(Fib)\n",
    "    return return_list\n",
    "\n",
    "Fib = compute_Fibonacci(n_numbers=10)\n",
    "\n",
    "print('The Fibonacci numbers are: {}'.format(Fib))\n"
   ]
  },
  {
   "cell_type": "code",
   "execution_count": 28,
   "metadata": {},
   "outputs": [
    {
     "name": "stdout",
     "output_type": "stream",
     "text": [
      "Next Fibonacci number 0\n",
      "Next Fibonacci number 1\n",
      "Next Fibonacci number 2\n",
      "Next Fibonacci number 3\n",
      "Next Fibonacci number 5\n",
      "Next Fibonacci number 8\n",
      "Next Fibonacci number 13\n",
      "Next Fibonacci number 21\n",
      "Next Fibonacci number 34\n",
      "Next Fibonacci number 55\n"
     ]
    }
   ],
   "source": [
    "##\n",
    "## Fibonacci Numbers --- Generator\n",
    "##\n",
    "\n",
    "def fibonacci():\n",
    "    x = 0\n",
    "    y = 1\n",
    "    fib = 0\n",
    "    while True:\n",
    "        yield fib\n",
    "        fib = y + x\n",
    "        x = y\n",
    "        y = fib   \n",
    "    \n",
    "\n",
    "my_generator = fibonacci()\n",
    "\n",
    "i = 0\n",
    "while i < 10:\n",
    "    print('Next Fibonacci number {}'.format(next(my_generator)))\n",
    "    i = i+1\n",
    "\n"
   ]
  },
  {
   "cell_type": "markdown",
   "metadata": {},
   "source": [
    "Python also allows to write multiple assignments on the same line, while during this assingment the value of the variables remains the same.\n",
    "This allows for a slightly more efficient code:"
   ]
  },
  {
   "cell_type": "code",
   "execution_count": 27,
   "metadata": {},
   "outputs": [
    {
     "name": "stdout",
     "output_type": "stream",
     "text": [
      "Next Fibonacci number 0\n",
      "Next Fibonacci number 1\n",
      "Next Fibonacci number 1\n",
      "Next Fibonacci number 2\n",
      "Next Fibonacci number 3\n",
      "Next Fibonacci number 5\n",
      "Next Fibonacci number 8\n",
      "Next Fibonacci number 13\n",
      "Next Fibonacci number 21\n",
      "Next Fibonacci number 34\n"
     ]
    }
   ],
   "source": [
    "##\n",
    "## Fibonacci Numbers --- Generator (alternative)\n",
    "##\n",
    "\n",
    "def fibonacci():\n",
    "    # same as above - first assignment is x = 0, second assignment is y = 1\n",
    "    x, y = 0,  1\n",
    "\n",
    "    while True:\n",
    "        yield x\n",
    "        # note here we need one variable less. We are assigning x = y and y = x + y at the same time, so their values do not change\n",
    "        # Therefore, we do not need an intermediate variable in between.\n",
    "        x, y = y, x + y     \n",
    "        \n",
    "\n",
    "\n",
    "my_generator = fibonacci()\n",
    "\n",
    "i = 0\n",
    "while i < 10:\n",
    "    print('Next Fibonacci number {}'.format(next(my_generator)))\n",
    "    i = i+1"
   ]
  },
  {
   "cell_type": "markdown",
   "metadata": {},
   "source": [
    "---\n",
    "## Decorator"
   ]
  },
  {
   "cell_type": "code",
   "execution_count": 30,
   "metadata": {},
   "outputs": [
    {
     "name": "stdout",
     "output_type": "stream",
     "text": [
      "The sum is 13\n"
     ]
    }
   ],
   "source": [
    "# define the decorator\n",
    "def my_decorator(func):\n",
    "    def wrapper(*args, **kwargs):\n",
    "        result = func(*args, **kwargs)\n",
    "        result = result  + 10\n",
    "        return result\n",
    "    return wrapper\n",
    "\n",
    "@my_decorator\n",
    "def sum(a,b):\n",
    "    return a + b\n",
    "\n",
    "c = sum(1,2)\n",
    "print('The sum is {}'.format(c))"
   ]
  }
 ],
 "metadata": {
  "kernelspec": {
   "display_name": "Python 3.10.6 ('pythonintro-A08DqnGu-py3.10')",
   "language": "python",
   "name": "python3"
  },
  "language_info": {
   "codemirror_mode": {
    "name": "ipython",
    "version": 3
   },
   "file_extension": ".py",
   "mimetype": "text/x-python",
   "name": "python",
   "nbconvert_exporter": "python",
   "pygments_lexer": "ipython3",
   "version": "3.10.6"
  },
  "orig_nbformat": 4,
  "vscode": {
   "interpreter": {
    "hash": "eb3a944512c48027e49906d9e47d21cfb9b2c1ddd33f9b79c72df4b5e3a553dc"
   }
  }
 },
 "nbformat": 4,
 "nbformat_minor": 2
}
