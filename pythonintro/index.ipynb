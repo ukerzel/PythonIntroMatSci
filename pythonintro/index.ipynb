{
 "cells": [
  {
   "attachments": {},
   "cell_type": "markdown",
   "metadata": {},
   "source": [
    "# Welcome\n",
    "\n",
    "Welcome to the course \"Introduction to Python and Data Science for Materials Science\"\n",
    "\n",
    "This repository focuses on getting familiar with Python and you can find all notebooks relevant to the course here."
   ]
  }
 ],
 "metadata": {
  "kernelspec": {
   "display_name": "pythonintro-NlsZwE_T-py3.10",
   "language": "python",
   "name": "python3"
  },
  "language_info": {
   "name": "python",
   "version": "3.10.6 (main, Nov 14 2022, 16:10:14) [GCC 11.3.0]"
  },
  "orig_nbformat": 4,
  "vscode": {
   "interpreter": {
    "hash": "e79a103ddccd343bb7d1be701b671c098efc420295b660c764763b93be962cdf"
   }
  }
 },
 "nbformat": 4,
 "nbformat_minor": 2
}
